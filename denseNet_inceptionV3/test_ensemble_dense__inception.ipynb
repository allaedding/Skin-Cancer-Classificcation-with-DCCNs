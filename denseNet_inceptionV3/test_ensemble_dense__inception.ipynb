{
  "nbformat": 4,
  "nbformat_minor": 0,
  "metadata": {
    "colab": {
      "name": "test_ensemble_dense__inception.ipynb",
      "version": "0.3.2",
      "provenance": [],
      "toc_visible": true
    },
    "kernelspec": {
      "name": "python3",
      "display_name": "Python 3"
    },
    "accelerator": "GPU"
  },
  "cells": [
    {
      "cell_type": "code",
      "metadata": {
        "id": "R3qJhTDDxeJv",
        "colab_type": "code",
        "colab": {}
      },
      "source": [
        ""
      ],
      "execution_count": 0,
      "outputs": []
    },
    {
      "cell_type": "code",
      "metadata": {
        "trusted": true,
        "_uuid": "5a4847c4cc799c23e57bf2531d92117cb95e1b07",
        "id": "-ZhFfcl4PO7-",
        "colab_type": "code",
        "outputId": "ff0f258f-2f30-42d2-ae34-0502daf2605b",
        "colab": {
          "base_uri": "https://localhost:8080/",
          "height": 176
        }
      },
      "source": [
        "# check how many train images we have in each folder\n",
        "total_train = 0\n",
        "\n",
        "nvt = len(os.listdir('base_dir/train_dir/nv'))\n",
        "print(nvt)\n",
        "melt = len(os.listdir('base_dir/train_dir/mel'))\n",
        "print(melt)\n",
        "bklt = len(os.listdir('base_dir/train_dir/bkl'))\n",
        "print(bklt)\n",
        "bcct = len(os.listdir('base_dir/train_dir/bcc'))\n",
        "print(bcct)\n",
        "akt = len(os.listdir('base_dir/train_dir/ak'))\n",
        "print(akt)\n",
        "vasct = len(os.listdir('base_dir/train_dir/vasc'))\n",
        "print(vasct)\n",
        "dft = len(os.listdir('base_dir/train_dir/df'))\n",
        "print(dft)\n",
        "scct = len(os.listdir('base_dir/train_dir/scc'))\n",
        "print(scct)\n",
        "\n",
        "total_train = nvt+melt+bklt+bcct+akt+vasct+dft+scct\n",
        "print(total_train)"
      ],
      "execution_count": 27,
      "outputs": [
        {
          "output_type": "stream",
          "text": [
            "5954\n",
            "5920\n",
            "5920\n",
            "5858\n",
            "6002\n",
            "5290\n",
            "4410\n",
            "5522\n",
            "44876\n"
          ],
          "name": "stdout"
        }
      ]
    },
    {
      "cell_type": "code",
      "metadata": {
        "trusted": true,
        "_uuid": "fd05c08cbfa00418dc333f5b67d1ff6e98aa973e",
        "id": "92LboWSePO7-",
        "colab_type": "code",
        "outputId": "29f9d40d-64e7-4c65-efe2-955f0fd13b16",
        "colab": {
          "base_uri": "https://localhost:8080/",
          "height": 176
        }
      },
      "source": [
        "# check how many val images we have in each folder\n",
        "total_val = 0\n",
        "nv = len(os.listdir('base_dir/val_dir/nv'))\n",
        "print(nv)\n",
        "mel = len(os.listdir('base_dir/val_dir/mel'))\n",
        "print(mel)\n",
        "bkl = len(os.listdir('base_dir/val_dir/bkl'))\n",
        "print(bkl)\n",
        "bcc = len(os.listdir('base_dir/val_dir/bcc'))\n",
        "print(bcc)\n",
        "ak = len(os.listdir('base_dir/val_dir/ak'))\n",
        "print(ak)\n",
        "vasc = len(os.listdir('base_dir/val_dir/vasc'))\n",
        "print(vasc)\n",
        "df = len(os.listdir('base_dir/val_dir/df'))\n",
        "print(df)\n",
        "scc = len(os.listdir('base_dir/val_dir/scc'))\n",
        "print(scc)\n",
        "\n",
        "total_val=nv+mel+bkl+bcc+ak+vasc+df+scc\n",
        "print(total_val)"
      ],
      "execution_count": 28,
      "outputs": [
        {
          "output_type": "stream",
          "text": [
            "751\n",
            "39\n",
            "75\n",
            "30\n",
            "173\n",
            "11\n",
            "6\n",
            "126\n",
            "1211\n"
          ],
          "name": "stdout"
        }
      ]
    },
    {
      "cell_type": "markdown",
      "metadata": {
        "trusted": true,
        "_uuid": "32dad10b7c104d2baa972da8cbadc7d6038af05c",
        "id": "b9VemQbnPO8d",
        "colab_type": "text"
      },
      "source": [
        "### Set Up the Generators"
      ]
    },
    {
      "cell_type": "code",
      "metadata": {
        "trusted": true,
        "_uuid": "aa1041d69b0e8313324b91e3e9475799e1ad61c2",
        "id": "teuio0h1PO8d",
        "colab_type": "code",
        "colab": {}
      },
      "source": [
        "train_path = 'base_dir/train_dir'\n",
        "valid_path = 'base_dir/val_dir'\n",
        "\n",
        "num_train_samples = total_train\n",
        "num_val_samples = total_val\n",
        "train_batch_size = 16\n",
        "val_batch_size = 16\n",
        "image_size = 224\n",
        "\n",
        "train_steps = np.ceil(num_train_samples / train_batch_size)\n",
        "val_steps = np.ceil(num_val_samples / val_batch_size)\n"
      ],
      "execution_count": 0,
      "outputs": []
    },
    {
      "cell_type": "code",
      "metadata": {
        "trusted": true,
        "_uuid": "d0e5aede7139196b0d4e1344b278e7621f005550",
        "id": "DgJt-2hOPO8d",
        "colab_type": "code",
        "outputId": "150bba3d-c5ab-4d9e-cdad-0562870027c0",
        "colab": {
          "base_uri": "https://localhost:8080/",
          "height": 70
        }
      },
      "source": [
        "\n",
        "datagen = ImageDataGenerator(\n",
        "    preprocessing_function= \\\n",
        "    tensorflow.keras.applications.densenet.preprocess_input)\n",
        "\n",
        "train_batches = datagen.flow_from_directory(train_path,\n",
        "                                            target_size=(image_size,image_size),\n",
        "                                            batch_size=train_batch_size)\n",
        "\n",
        "valid_batches = datagen.flow_from_directory(valid_path,\n",
        "                                            target_size=(image_size,image_size),\n",
        "                                            batch_size=val_batch_size)\n",
        "\n",
        "# Note: shuffle=False causes the test dataset to not be shuffled\n",
        "test_batches = datagen.flow_from_directory(valid_path,\n",
        "                                            target_size=(image_size,image_size),\n",
        "                                            batch_size=1,\n",
        "                                            shuffle=False)"
      ],
      "execution_count": 30,
      "outputs": [
        {
          "output_type": "stream",
          "text": [
            "Found 44876 images belonging to 8 classes.\n",
            "Found 1211 images belonging to 8 classes.\n",
            "Found 1211 images belonging to 8 classes.\n"
          ],
          "name": "stdout"
        }
      ]
    },
    {
      "cell_type": "code",
      "metadata": {
        "trusted": true,
        "_uuid": "371731306c3e504b191979706e826c247def88dc",
        "id": "IUaVCvnaPO6h",
        "colab_type": "code",
        "colab": {}
      },
      "source": [
        "from numpy.random import seed\n",
        "seed(101)\n",
        "from tensorflow import set_random_seed\n",
        "set_random_seed(101)\n",
        "\n",
        "import pandas as pd\n",
        "import numpy as np\n",
        "#import keras\n",
        "#from keras import backend as K\n",
        "\n",
        "import tensorflow\n",
        "from tensorflow.keras.layers import Dense, Dropout\n",
        "from tensorflow.keras.optimizers import Adam\n",
        "from tensorflow.keras.metrics import categorical_crossentropy\n",
        "from tensorflow.keras.preprocessing.image import ImageDataGenerator\n",
        "from tensorflow.keras.models import Model\n",
        "from tensorflow.keras import layers\n",
        "from tensorflow.keras.callbacks import EarlyStopping, ReduceLROnPlateau, ModelCheckpoint\n",
        "\n",
        "import os\n",
        "\n",
        "from sklearn.metrics import confusion_matrix\n",
        "from sklearn.model_selection import train_test_split\n",
        "import itertools\n",
        "import shutil\n",
        "import matplotlib.pyplot as plt\n",
        "%matplotlib inline\n"
      ],
      "execution_count": 0,
      "outputs": []
    },
    {
      "cell_type": "markdown",
      "metadata": {
        "id": "AaAYu_o6E9q1",
        "colab_type": "text"
      },
      "source": [
        "### models definition"
      ]
    },
    {
      "cell_type": "code",
      "metadata": {
        "id": "gs7dudWEK7us",
        "colab_type": "code",
        "colab": {}
      },
      "source": [
        "from tensorflow.keras import Model, Input\n",
        "input_shape = (224, 224, 3)\n",
        "model_input = Input(shape=input_shape)"
      ],
      "execution_count": 0,
      "outputs": []
    },
    {
      "cell_type": "code",
      "metadata": {
        "id": "40D4mfGou9eh",
        "colab_type": "code",
        "colab": {}
      },
      "source": [
        "from tensorflow.keras.models import Sequential"
      ],
      "execution_count": 0,
      "outputs": []
    },
    {
      "cell_type": "markdown",
      "metadata": {
        "id": "fQDfc8qCsklV",
        "colab_type": "text"
      },
      "source": [
        "### dense"
      ]
    },
    {
      "cell_type": "code",
      "metadata": {
        "id": "RBrczj6NerQN",
        "colab_type": "code",
        "outputId": "ec201df8-58cc-42b5-ccf7-105e52715742",
        "colab": {
          "base_uri": "https://localhost:8080/",
          "height": 125
        }
      },
      "source": [
        "# create a copy of a mobilenet model\n",
        "\n",
        "#mobile = tensorflow.keras.applications.densenet.DenseNet201(input_shape=(224, 224, 3), input_tensor=model_input, include_top=False, weights=\"imagenet\")\n",
        "mobile = tensorflow.keras.applications.densenet.DenseNet201(weights='imagenet', include_top=False, input_tensor=model_input)\n",
        "#get the last layer shape\n",
        "last_layer = mobile.get_layer('relu')\n",
        "print('last layer output shape:', last_layer.output_shape)\n",
        "last_output = last_layer.output\n",
        "\n",
        "# CREATE THE MODEL ARCHITECTURE\n",
        "\n",
        "# Exclude the last 5 layers of the above model.\n",
        "# This will include all layers up to and including global_average_pooling2d_1\n",
        "#x = mobile.layers[-6].output\n",
        "x = layers.GlobalMaxPooling2D()(last_output)\n",
        "#x = layers.Dense(512)(x)\n",
        "# Create a new dense layer for predictions\n",
        "# 7 corresponds to the number of classes\n",
        "x = Dropout(0.25)(x)\n",
        "predictions = Dense(8, activation='softmax')(x)\n",
        "\n",
        "# inputs=mobile.input selects the input layer, outputs=predictions refers to the\n",
        "# dense layer we created above.\n",
        "\n",
        "model_dense = Model(inputs=mobile.input, outputs=predictions)\n",
        "\n"
      ],
      "execution_count": 4,
      "outputs": [
        {
          "output_type": "stream",
          "text": [
            "WARNING: Logging before flag parsing goes to stderr.\n",
            "W0704 16:20:20.891807 140623554180992 deprecation.py:506] From /usr/local/lib/python3.6/dist-packages/tensorflow/python/ops/init_ops.py:1251: calling VarianceScaling.__init__ (from tensorflow.python.ops.init_ops) with dtype is deprecated and will be removed in a future version.\n",
            "Instructions for updating:\n",
            "Call initializer instance with the dtype argument instead of passing it to the constructor\n"
          ],
          "name": "stderr"
        },
        {
          "output_type": "stream",
          "text": [
            "last layer output shape: (None, 7, 7, 1920)\n"
          ],
          "name": "stdout"
        }
      ]
    },
    {
      "cell_type": "code",
      "metadata": {
        "colab_type": "code",
        "id": "kS4NsXiLybIP",
        "colab": {}
      },
      "source": [
        "model_dense1 = Model(inputs=mobile.input, outputs=predictions, name=\"dense_model1\")\n",
        "# model_dense2 = Model(inputs=mobile.input, outputs=predictions, name=\"dense_model2\")\n",
        "# model_dense3 = Model(inputs=mobile.input, outputs=predictions, name=\"dense_model3\")\n",
        "# model_dense4 = Model(inputs=mobile.input, outputs=predictions, name=\"dense_model4\")\n",
        "# model_dense5 = Model(inputs=mobile.input, outputs=predictions, name=\"dense_model5\")\n",
        "# model_dense6 = Model(inputs=mobile.input, outputs=predictions, name=\"dense_model6\")"
      ],
      "execution_count": 0,
      "outputs": []
    },
    {
      "cell_type": "code",
      "metadata": {
        "id": "zjtk0PXdGKPH",
        "colab_type": "code",
        "colab": {}
      },
      "source": [
        ""
      ],
      "execution_count": 0,
      "outputs": []
    },
    {
      "cell_type": "code",
      "metadata": {
        "id": "4sE1XC2j6mnL",
        "colab_type": "code",
        "colab": {}
      },
      "source": [
        "#model.summary()"
      ],
      "execution_count": 0,
      "outputs": []
    },
    {
      "cell_type": "markdown",
      "metadata": {
        "id": "yeE-hyD2sowd",
        "colab_type": "text"
      },
      "source": [
        "### Inception"
      ]
    },
    {
      "cell_type": "code",
      "metadata": {
        "id": "ihNocyNOsr_y",
        "colab_type": "code",
        "outputId": "b859308c-b8e8-4bb0-e9b2-f0e363db9035",
        "colab": {
          "base_uri": "https://localhost:8080/",
          "height": 90
        }
      },
      "source": [
        "# create a copy of a mobilenet model\n",
        "mobile=Sequential()\n",
        "#mobile = tensorflow.keras.applications.densenet.DenseNet201(input_shape=(224, 224, 3), input_tensor=model_input, include_top=False, weights=\"imagenet\")\n",
        "mobile = tensorflow.keras.applications.inception_v3.InceptionV3(weights='imagenet', include_top=False, input_tensor=model_input)\n",
        "#get the last layer shape\n",
        "last_layer = mobile.get_layer('mixed10')\n",
        "print('last layer output shape:', last_layer.output_shape)\n",
        "last_output = last_layer.output\n",
        "\n",
        "# CREATE THE MODEL ARCHITECTURE\n",
        "\n",
        "# Exclude the last 5 layers of the above model.\n",
        "# This will include all layers up to and including global_average_pooling2d_1\n",
        "#x = mobile.layers[-6].output\n",
        "x = layers.GlobalMaxPooling2D()(last_output)\n",
        "#x = layers.Dense(512)(x)\n",
        "# Create a new dense layer for predictions\n",
        "# 7 corresponds to the number of classes\n",
        "x = Dropout(0.25)(x)\n",
        "predictions = Dense(8, activation='softmax')(x)\n",
        "\n",
        "# inputs=mobile.input selects the input layer, outputs=predictions refers to the\n",
        "# dense layer we created above.\n",
        "\n",
        "model_inception = Model(inputs=mobile.input, outputs=predictions , name=\"my_model\")\n",
        "\n"
      ],
      "execution_count": 7,
      "outputs": [
        {
          "output_type": "stream",
          "text": [
            "Downloading data from https://github.com/fchollet/deep-learning-models/releases/download/v0.5/inception_v3_weights_tf_dim_ordering_tf_kernels_notop.h5\n",
            "87916544/87910968 [==============================] - 1s 0us/step\n",
            "last layer output shape: (None, 5, 5, 2048)\n"
          ],
          "name": "stdout"
        }
      ]
    },
    {
      "cell_type": "code",
      "metadata": {
        "id": "xVoi6YIfwIfm",
        "colab_type": "code",
        "colab": {}
      },
      "source": [
        "model_inception1 = Model(inputs=mobile.input, outputs=predictions , name=\"my_model1\")\n",
        "# model_inception2 = Model(inputs=mobile.input, outputs=predictions , name=\"my_model2\")\n"
      ],
      "execution_count": 0,
      "outputs": []
    },
    {
      "cell_type": "markdown",
      "metadata": {
        "id": "eoXpRckDstQ6",
        "colab_type": "text"
      },
      "source": [
        "### other def"
      ]
    },
    {
      "cell_type": "code",
      "metadata": {
        "colab_type": "code",
        "id": "yNaSLbiEWGk5",
        "colab": {}
      },
      "source": [
        "import tensorflow as tf\n",
        "def median_weight_class_loss(y_true, y_pred):\n",
        "  epsilon = tf.constant(value=1e-10)\n",
        "  #weight_sample = np.array([1113,6705,514,327,1099,115,142])/10015\n",
        "  weight_sample = np.array([867,514,1099,115,800,6705,628,142])/10015\n",
        " #weight_sample = np.array( ak ,bcc,bkl ,df ,mel, nv ,scc,vasc)/full\n",
        "#mel = 1113 -> 900\n",
        "  weight_sample = 0.05132302/weight_sample\n",
        "  xent = -tf.reduce_sum(y_true * tf.log(y_pred + epsilon) * weight_sample, axis=1)\n",
        "  return xent\n",
        "  #['MEL', 'NV', 'BCC', 'AK', 'BKL', 'DF', 'VASC']\n",
        "  \n",
        "#327,514,1099,115,1113,6705,142\n",
        "#{'ak': 0, 'bcc': 1, 'bkl': 2, 'df': 3, 'mel': 4, 'nv': 5, 'vasc': 6}\n",
        "\n",
        "\n",
        "# 867   ak\n",
        "# 514   bcc\n",
        "# 1099  bkl\n",
        "# 115   df\n",
        "# 1113  mel\n",
        "# 6705  nv\n",
        "# 628   scc\n",
        "# 142   vasc"
      ],
      "execution_count": 0,
      "outputs": []
    },
    {
      "cell_type": "code",
      "metadata": {
        "id": "q_KcdtxJWtiJ",
        "colab_type": "code",
        "colab": {}
      },
      "source": [
        "!rm -r sample_data"
      ],
      "execution_count": 0,
      "outputs": []
    },
    {
      "cell_type": "markdown",
      "metadata": {
        "id": "dT09RKBXWskM",
        "colab_type": "text"
      },
      "source": [
        "### download the models\n"
      ]
    },
    {
      "cell_type": "code",
      "metadata": {
        "id": "vjy3Tdp3El83",
        "colab_type": "code",
        "colab": {}
      },
      "source": [
        "!rm -r models"
      ],
      "execution_count": 0,
      "outputs": []
    },
    {
      "cell_type": "code",
      "metadata": {
        "id": "L-iW53wEdYTB",
        "colab_type": "code",
        "colab": {}
      },
      "source": [
        "os.mkdir('models')"
      ],
      "execution_count": 0,
      "outputs": []
    },
    {
      "cell_type": "code",
      "metadata": {
        "id": "oB23WgWFXb45",
        "colab_type": "code",
        "colab": {}
      },
      "source": [
        "!cp 'drive/My Drive/full.h5' -d models/full.h5\n",
        "!cp 'drive/My Drive/full_inception.h5' -d models/full_inception.h5\n",
        "# !cp 'drive/My Drive/mel_nv.h5' -d models/mel_nv.h5\n",
        "# !cp 'drive/My Drive/bkl_bcc.h5' -d models/bkl_bcc.h5\n",
        "# !cp 'drive/My Drive/scc_ak.h5' -d models/scc_ak.h5\n",
        "# !cp 'drive/My Drive/vasc_df.h5' -d models/vasc_df.h5"
      ],
      "execution_count": 0,
      "outputs": []
    },
    {
      "cell_type": "markdown",
      "metadata": {
        "id": "xfXkgxnEWnjC",
        "colab_type": "text"
      },
      "source": [
        "### ensemble\n"
      ]
    },
    {
      "cell_type": "code",
      "metadata": {
        "id": "mK2ihjmq3WRn",
        "colab_type": "code",
        "colab": {}
      },
      "source": [
        "model1 = model_dense1\n",
        "model2 = model_inception1\n",
        "\n",
        "\n",
        "# model3 = model_dense3\n",
        "# model4 = model_dense4\n",
        "# model5 = model_dense5\n",
        "# new_model = model_dense6"
      ],
      "execution_count": 0,
      "outputs": []
    },
    {
      "cell_type": "code",
      "metadata": {
        "colab_type": "code",
        "id": "29Xw4lQdYxjq",
        "colab": {}
      },
      "source": [
        "model1.load_weights('models/full.h5')\n",
        "model2.load_weights('models/full_inception.h5')\n",
        "\n",
        "# model2.load_weights('models/mel_nv.h5')\n",
        "# model3.load_weights('models/bkl_bcc.h5')\n",
        "# model4.load_weights('models/scc_ak.h5')\n",
        "# model5.load_weights('models/vasc_df.h5')"
      ],
      "execution_count": 0,
      "outputs": []
    },
    {
      "cell_type": "code",
      "metadata": {
        "id": "ztnXXhIHbj-G",
        "colab_type": "code",
        "colab": {}
      },
      "source": [
        "models  = []"
      ],
      "execution_count": 0,
      "outputs": []
    },
    {
      "cell_type": "code",
      "metadata": {
        "id": "WywX1x2xVZo0",
        "colab_type": "code",
        "colab": {}
      },
      "source": [
        "#models = [model2,model3,model4,model5]\n",
        "models = [model1,model2]"
      ],
      "execution_count": 0,
      "outputs": []
    },
    {
      "cell_type": "code",
      "metadata": {
        "id": "mwHb9OnbVxMl",
        "colab_type": "code",
        "colab": {}
      },
      "source": [
        "models[0].summary()"
      ],
      "execution_count": 0,
      "outputs": []
    },
    {
      "cell_type": "markdown",
      "metadata": {
        "id": "rMrAvKPUVS_9",
        "colab_type": "text"
      },
      "source": [
        "### ensembling"
      ]
    },
    {
      "cell_type": "code",
      "metadata": {
        "colab_type": "code",
        "id": "dgSmOyA7xL9o",
        "colab": {}
      },
      "source": [
        "def ensemble(models, model_input):\n",
        "    outputs = [model.outputs[0] for model in models]\n",
        "    \n",
        "    y = layers.Average()(outputs)\n",
        "    #y = layers.Maximum()(outputs)\n",
        "    \n",
        "    modele = Model(inputs=model_input, outputs = y, name='ensemble')\n",
        "    return modele"
      ],
      "execution_count": 0,
      "outputs": []
    },
    {
      "cell_type": "code",
      "metadata": {
        "id": "G3fn1-xTfReB",
        "colab_type": "code",
        "colab": {}
      },
      "source": [
        "def ensemble(models, model_input):  \n",
        "  # collect outputs of models in a list\n",
        "    yModels=[model(model_input) for model in models] \n",
        "    # averaging outputs\n",
        "    yAvg=layers.average(yModels) \n",
        "    # build model from same input and avg output\n",
        "    modelEns = Model(inputs=model_input, outputs=yAvg,    name='ensemble')  \n",
        "   \n",
        "    return modelEns"
      ],
      "execution_count": 0,
      "outputs": []
    },
    {
      "cell_type": "code",
      "metadata": {
        "id": "dq9aZMqfwllX",
        "colab_type": "code",
        "colab": {}
      },
      "source": [
        "\n",
        "new_model = ensemble(models, model_input)\n",
        "#model.summary()"
      ],
      "execution_count": 0,
      "outputs": []
    },
    {
      "cell_type": "code",
      "metadata": {
        "id": "Q7D-Um6nz2yx",
        "colab_type": "code",
        "colab": {}
      },
      "source": [
        "# modelEns.save('ens_model.h5')"
      ],
      "execution_count": 0,
      "outputs": []
    },
    {
      "cell_type": "code",
      "metadata": {
        "id": "DS74WKOgz4zE",
        "colab_type": "code",
        "colab": {}
      },
      "source": [
        "# modelEns=load_model(ens_model)"
      ],
      "execution_count": 0,
      "outputs": []
    },
    {
      "cell_type": "code",
      "metadata": {
        "id": "-deiWsgzFaUA",
        "colab_type": "code",
        "colab": {}
      },
      "source": [
        ""
      ],
      "execution_count": 0,
      "outputs": []
    },
    {
      "cell_type": "markdown",
      "metadata": {
        "_uuid": "c3e43e3f2943db4be9d75831fe23661ae9deb44b",
        "id": "ZEH-0fu-PO9c",
        "colab_type": "text"
      },
      "source": [
        "## Evaluate the model using the val set"
      ]
    },
    {
      "cell_type": "code",
      "metadata": {
        "id": "z6WC9-GwVt26",
        "colab_type": "code",
        "colab": {}
      },
      "source": [
        "#new_model = model2"
      ],
      "execution_count": 0,
      "outputs": []
    },
    {
      "cell_type": "code",
      "metadata": {
        "trusted": true,
        "_uuid": "2013ff1abae70fed845af94e7ab3d95cefad0d61",
        "id": "WdXGBTAcPO9M",
        "colab_type": "code",
        "colab": {}
      },
      "source": [
        "optimizer = Adam(lr=0.0001, beta_1=0.9, beta_2=0.999, epsilon=None, decay=0.0, amsgrad=True)\n",
        "#modelEns.compile(loss= categorical_crossentropy,\n",
        "new_model.compile(loss= median_weight_class_loss,\n",
        "              optimizer=optimizer,\n",
        "              metrics=['categorical_accuracy'])\n",
        "\n"
      ],
      "execution_count": 0,
      "outputs": []
    },
    {
      "cell_type": "code",
      "metadata": {
        "trusted": true,
        "_uuid": "62e7a784a33d4c868f49a3ef1f9acbc7186e3338",
        "id": "vUpFekSIPO9M",
        "colab_type": "code",
        "outputId": "8e89b177-c722-43c4-bf99-5ac20e6927d8",
        "colab": {
          "base_uri": "https://localhost:8080/",
          "height": 34
        }
      },
      "source": [
        "# Get the labels that are associated with each index\n",
        "print(valid_batches.class_indices)"
      ],
      "execution_count": 31,
      "outputs": [
        {
          "output_type": "stream",
          "text": [
            "{'ak': 0, 'bcc': 1, 'bkl': 2, 'df': 3, 'mel': 4, 'nv': 5, 'scc': 6, 'vasc': 7}\n"
          ],
          "name": "stdout"
        }
      ]
    },
    {
      "cell_type": "code",
      "metadata": {
        "trusted": true,
        "_uuid": "710ee26097924153647ac432c8ade29383fe42f1",
        "id": "o8s8qJF7PO9c",
        "colab_type": "code",
        "outputId": "9f8b939f-cd97-4d8d-a34b-c76a03b40df1",
        "colab": {
          "base_uri": "https://localhost:8080/",
          "height": 34
        }
      },
      "source": [
        "# get the metric names so we can use evaulate_generator\n",
        "new_model.metrics_names"
      ],
      "execution_count": 32,
      "outputs": [
        {
          "output_type": "execute_result",
          "data": {
            "text/plain": [
              "['loss', 'categorical_accuracy']"
            ]
          },
          "metadata": {
            "tags": []
          },
          "execution_count": 32
        }
      ]
    },
    {
      "cell_type": "code",
      "metadata": {
        "trusted": true,
        "_uuid": "68603a5e8cb5e507db95074a07b552a61fa48e11",
        "id": "7-mlZsi9PO9c",
        "colab_type": "code",
        "outputId": "7a910344-2db7-472e-8657-9ba157850391",
        "colab": {
          "base_uri": "https://localhost:8080/",
          "height": 52
        }
      },
      "source": [
        "# Here the the last epoch will be used.\n",
        "\n",
        "val_loss, val_cat_acc = \\\n",
        "new_model.evaluate_generator(test_batches, \n",
        "                        steps=total_val)\n",
        "\n",
        "print('val_loss:', val_loss)\n",
        "print('val_cat_acc:', val_cat_acc)\n"
      ],
      "execution_count": 33,
      "outputs": [
        {
          "output_type": "stream",
          "text": [
            "val_loss: 0.2844330716034405\n",
            "val_cat_acc: 0.88109\n"
          ],
          "name": "stdout"
        }
      ]
    },
    {
      "cell_type": "code",
      "metadata": {
        "trusted": true,
        "_uuid": "897f066da922d81fefa165a6b911a741c52ef7f5",
        "id": "48C3PzRNPO9c",
        "colab_type": "code",
        "colab": {}
      },
      "source": [
        "# Here the best epoch will be used.\n",
        "\n",
        "# modelEns.load_weights('model.h5')\n",
        "\n",
        "# val_loss, val_cat_acc = \\\n",
        "# model.evaluate_generator(test_batches, \n",
        "#                         steps=total_val)\n",
        "\n",
        "# print('val_loss:', val_loss)\n",
        "# print('val_cat_acc:', val_cat_acc)\n"
      ],
      "execution_count": 0,
      "outputs": []
    },
    {
      "cell_type": "markdown",
      "metadata": {
        "_uuid": "4204e4056c8d12c1fee72b97912879cad4ee483f",
        "id": "qEOZEC8SPO9r",
        "colab_type": "text"
      },
      "source": [
        "### Create a Confusion Matrix"
      ]
    },
    {
      "cell_type": "code",
      "metadata": {
        "trusted": true,
        "_uuid": "74a66905f7a2d702f3d2aad9abf9fe114b96f0ff",
        "id": "fFfmpfB1PO9r",
        "colab_type": "code",
        "colab": {}
      },
      "source": [
        "# Get the labels of the test images.\n",
        "\n",
        "test_labels = test_batches.classes"
      ],
      "execution_count": 0,
      "outputs": []
    },
    {
      "cell_type": "code",
      "metadata": {
        "trusted": true,
        "_uuid": "53f4b22617285e923f336cdb2ffcbe1f9ff5e5db",
        "_kg_hide-output": true,
        "id": "VEOjcoAVPO9r",
        "colab_type": "code",
        "outputId": "ede76597-28c4-4d71-dd09-8368adff8d79",
        "colab": {
          "base_uri": "https://localhost:8080/",
          "height": 34
        }
      },
      "source": [
        "# We need these to plot the confusion matrix.\n",
        "test_labels"
      ],
      "execution_count": 35,
      "outputs": [
        {
          "output_type": "execute_result",
          "data": {
            "text/plain": [
              "array([0, 0, 0, ..., 7, 7, 7], dtype=int32)"
            ]
          },
          "metadata": {
            "tags": []
          },
          "execution_count": 35
        }
      ]
    },
    {
      "cell_type": "code",
      "metadata": {
        "trusted": true,
        "_uuid": "d5113e039e8384b96595751e084f0c5ed677080a",
        "id": "7h5SK-u3PO97",
        "colab_type": "code",
        "outputId": "9a245fc2-86f3-4c35-9cfa-f2c2183b8284",
        "colab": {
          "base_uri": "https://localhost:8080/",
          "height": 34
        }
      },
      "source": [
        "# Print the label associated with each class\n",
        "test_batches.class_indices"
      ],
      "execution_count": 36,
      "outputs": [
        {
          "output_type": "execute_result",
          "data": {
            "text/plain": [
              "{'ak': 0, 'bcc': 1, 'bkl': 2, 'df': 3, 'mel': 4, 'nv': 5, 'scc': 6, 'vasc': 7}"
            ]
          },
          "metadata": {
            "tags": []
          },
          "execution_count": 36
        }
      ]
    },
    {
      "cell_type": "code",
      "metadata": {
        "trusted": true,
        "_uuid": "701dafc5874aa60a054a74c04170cb7e8d750e94",
        "id": "j4TNdsVyPO97",
        "colab_type": "code",
        "outputId": "d5e6411e-9da4-4470-d457-e1eebc3f1493",
        "colab": {
          "base_uri": "https://localhost:8080/",
          "height": 34
        }
      },
      "source": [
        "# make a prediction\n",
        "#predictions = model.predict_generator(test_batches, steps=len(df_val), verbose=1)\n",
        "predictions = new_model.predict_generator(test_batches, steps=total_val, verbose=1)"
      ],
      "execution_count": 37,
      "outputs": [
        {
          "output_type": "stream",
          "text": [
            "1211/1211 [==============================] - 61s 50ms/step\n"
          ],
          "name": "stdout"
        }
      ]
    },
    {
      "cell_type": "code",
      "metadata": {
        "trusted": true,
        "_uuid": "dcce17ac0488ff90d29b11592c9226ed1bb210fb",
        "id": "3tVC65mCPO-d",
        "colab_type": "code",
        "outputId": "f7bebe2b-26fe-46e1-e6c0-d163365213f4",
        "colab": {
          "base_uri": "https://localhost:8080/",
          "height": 34
        }
      },
      "source": [
        "predictions.shape"
      ],
      "execution_count": 38,
      "outputs": [
        {
          "output_type": "execute_result",
          "data": {
            "text/plain": [
              "(1211, 8)"
            ]
          },
          "metadata": {
            "tags": []
          },
          "execution_count": 38
        }
      ]
    },
    {
      "cell_type": "code",
      "metadata": {
        "trusted": true,
        "_uuid": "7cfd9bdbbd27e27d9c5de7c6593527686445ea89",
        "id": "Lw-jS9nWPO-d",
        "colab_type": "code",
        "colab": {}
      },
      "source": [
        "# Source: Scikit Learn website\n",
        "# http://scikit-learn.org/stable/auto_examples/\n",
        "# model_selection/plot_confusion_matrix.html#sphx-glr-auto-examples-model-\n",
        "# selection-plot-confusion-matrix-py\n",
        "\n",
        "\n",
        "def plot_confusion_matrix(cm, classes,\n",
        "                          normalize=False,\n",
        "                          title='Confusion matrix',\n",
        "                          cmap=plt.cm.Blues):\n",
        "    \"\"\"\n",
        "    This function prints and plots the confusion matrix.\n",
        "    Normalization can be applied by setting `normalize=True`.\n",
        "    \"\"\"\n",
        "    if normalize:\n",
        "        cm = cm.astype('float') / cm.sum(axis=1)[:, np.newaxis]\n",
        "        print(\"Normalized confusion matrix\")\n",
        "    else:\n",
        "        print('Confusion matrix, without normalization')\n",
        "\n",
        "    print(cm)\n",
        "\n",
        "    plt.imshow(cm, interpolation='nearest', cmap=cmap)\n",
        "    plt.title(title)\n",
        "    plt.colorbar()\n",
        "    tick_marks = np.arange(len(classes))\n",
        "    plt.xticks(tick_marks, classes, rotation=45)\n",
        "    plt.yticks(tick_marks, classes)\n",
        "\n",
        "    fmt = '.2f' if normalize else 'd'\n",
        "    thresh = cm.max() / 2.\n",
        "    for i, j in itertools.product(range(cm.shape[0]), range(cm.shape[1])):\n",
        "        plt.text(j, i, format(cm[i, j], fmt),\n",
        "                 horizontalalignment=\"center\",\n",
        "                 color=\"white\" if cm[i, j] > thresh else \"black\")\n",
        "\n",
        "    plt.ylabel('True label')\n",
        "    plt.xlabel('Predicted label')\n",
        "    plt.tight_layout()\n",
        "\n",
        "\n"
      ],
      "execution_count": 0,
      "outputs": []
    },
    {
      "cell_type": "code",
      "metadata": {
        "trusted": true,
        "_uuid": "8d499136cdb5fdf356515beb6e0cd1130ed584db",
        "id": "nWHxzB76PO-t",
        "colab_type": "code",
        "outputId": "53f923bf-838d-438a-d7ae-72df2c7365da",
        "colab": {
          "base_uri": "https://localhost:8080/",
          "height": 34
        }
      },
      "source": [
        "test_labels.shape"
      ],
      "execution_count": 40,
      "outputs": [
        {
          "output_type": "execute_result",
          "data": {
            "text/plain": [
              "(1211,)"
            ]
          },
          "metadata": {
            "tags": []
          },
          "execution_count": 40
        }
      ]
    },
    {
      "cell_type": "code",
      "metadata": {
        "trusted": true,
        "_uuid": "940b71bb2b37d847ba81dd67ca50c7fd5785fd35",
        "id": "ZPVTJwZRPO-t",
        "colab_type": "code",
        "colab": {}
      },
      "source": [
        "# argmax returns the index of the max value in a row\n",
        "cm = confusion_matrix(test_labels, predictions.argmax(axis=1))"
      ],
      "execution_count": 0,
      "outputs": []
    },
    {
      "cell_type": "code",
      "metadata": {
        "trusted": true,
        "_uuid": "97c6b493c368ff6565782c1bb15827f5d349ef79",
        "id": "yYueFTKgPO_N",
        "colab_type": "code",
        "outputId": "62bebd5d-c467-4314-84d3-9516265b29a6",
        "colab": {
          "base_uri": "https://localhost:8080/",
          "height": 34
        }
      },
      "source": [
        "test_batches.class_indices"
      ],
      "execution_count": 42,
      "outputs": [
        {
          "output_type": "execute_result",
          "data": {
            "text/plain": [
              "{'ak': 0, 'bcc': 1, 'bkl': 2, 'df': 3, 'mel': 4, 'nv': 5, 'scc': 6, 'vasc': 7}"
            ]
          },
          "metadata": {
            "tags": []
          },
          "execution_count": 42
        }
      ]
    },
    {
      "cell_type": "code",
      "metadata": {
        "trusted": true,
        "_uuid": "0ddbd33a93468075c64ba49188a6d272a5c7828f",
        "id": "JvhGgpbTPO_N",
        "colab_type": "code",
        "outputId": "30dadf46-d2a8-4997-c91d-8d99a344f91a",
        "colab": {
          "base_uri": "https://localhost:8080/",
          "height": 456
        }
      },
      "source": [
        "# Define the labels of the class indices. These need to match the \n",
        "# order shown above.\n",
        "cm_plot_labels = ['ak', 'bcc', 'bkl', 'df', 'mel','nv','scc', 'vasc']\n",
        "\n",
        "plot_confusion_matrix(cm, cm_plot_labels, title='Confusion Matrix')"
      ],
      "execution_count": 43,
      "outputs": [
        {
          "output_type": "stream",
          "text": [
            "Confusion matrix, without normalization\n",
            "[[145   0   5   6   3   1  13   0]\n",
            " [  0  23   4   3   0   0   0   0]\n",
            " [  2   0  47   4  15   3   2   2]\n",
            " [  0   0   0   4   0   2   0   0]\n",
            " [  0   0   2   2  28   6   1   0]\n",
            " [  0   2  10   6  16 715   0   2]\n",
            " [ 15   1   4   7   4   1  94   0]\n",
            " [  0   0   0   0   0   0   0  11]]\n"
          ],
          "name": "stdout"
        },
        {
          "output_type": "display_data",
          "data": {
            "image/png": "[encoded data removed]",
            "text/plain": [
              "<Figure size 432x288 with 2 Axes>"
            ]
          },
          "metadata": {
            "tags": []
          }
        }
      ]
    },
    {
      "cell_type": "markdown",
      "metadata": {
        "_uuid": "571f3f23d58daa03ec3fbf9207363063b2a63373",
        "id": "uvHLKSDMPO_d",
        "colab_type": "text"
      },
      "source": [
        "### Generate the Classification Report"
      ]
    },
    {
      "cell_type": "code",
      "metadata": {
        "trusted": true,
        "_uuid": "ebc31a49c8e8ab5d1305e46a7d638e0da326da8b",
        "id": "T8w6b5Z1PO_d",
        "colab_type": "code",
        "colab": {}
      },
      "source": [
        "# Get the index of the class with the highest probability score\n",
        "y_pred = np.argmax(predictions, axis=1)\n",
        "\n",
        "# Get the labels of the test images.\n",
        "y_true = test_batches.classes"
      ],
      "execution_count": 0,
      "outputs": []
    },
    {
      "cell_type": "code",
      "metadata": {
        "trusted": true,
        "_uuid": "05027fe3475ab922340f9d905ec1239e2157fa05",
        "id": "2yWuGXFUPO_d",
        "colab_type": "code",
        "outputId": "4a543cd8-db55-43c1-b37a-ed036ddaac8a",
        "colab": {
          "base_uri": "https://localhost:8080/",
          "height": 283
        }
      },
      "source": [
        "from sklearn.metrics import classification_report\n",
        "\n",
        "# Generate a classification report\n",
        "report = classification_report(y_true, y_pred, target_names=cm_plot_labels)\n",
        "\n",
        "print(report)"
      ],
      "execution_count": 45,
      "outputs": [
        {
          "output_type": "stream",
          "text": [
            "              precision    recall  f1-score   support\n",
            "\n",
            "          ak       0.90      0.84      0.87       173\n",
            "         bcc       0.88      0.77      0.82        30\n",
            "         bkl       0.65      0.63      0.64        75\n",
            "          df       0.12      0.67      0.21         6\n",
            "         mel       0.42      0.72      0.53        39\n",
            "          nv       0.98      0.95      0.97       751\n",
            "         scc       0.85      0.75      0.80       126\n",
            "        vasc       0.73      1.00      0.85        11\n",
            "\n",
            "    accuracy                           0.88      1211\n",
            "   macro avg       0.69      0.79      0.71      1211\n",
            "weighted avg       0.91      0.88      0.89      1211\n",
            "\n"
          ],
          "name": "stdout"
        }
      ]
    },
    {
      "cell_type": "markdown",
      "metadata": {
        "_uuid": "d8313f0f4024fdb8053f943136880e63ac962ac2",
        "id": "h_xc5XnpPO_s",
        "colab_type": "text"
      },
      "source": [
        "**Recall** = Given a class, will the classifier be able to detect it?<br>\n",
        "**Precision** = Given a class prediction from a classifier, how likely is it to be correct?<br>\n",
        "**F1 Score** = The harmonic mean of the recall and precision. Essentially, it punishes extreme values."
      ]
    },
    {
      "cell_type": "code",
      "metadata": {
        "trusted": true,
        "_uuid": "5542329b4d6891149c210b55272a981144cdf27f",
        "id": "Dvpt8q2GPO_s",
        "colab_type": "code",
        "colab": {}
      },
      "source": [
        ""
      ],
      "execution_count": 0,
      "outputs": []
    },
    {
      "cell_type": "code",
      "metadata": {
        "trusted": true,
        "_uuid": "4c46f3f1d257241f96b4aac7eb96831ff8bbea33",
        "id": "_B036K8kPO_s",
        "colab_type": "code",
        "colab": {}
      },
      "source": [
        "# End of Model Building\n",
        "### ===================================================================================== ###\n",
        "# Convert the Model from Keras to Tensorflow.js"
      ],
      "execution_count": 0,
      "outputs": []
    },
    {
      "cell_type": "markdown",
      "metadata": {
        "id": "8sT7AjMhIsYP",
        "colab_type": "text"
      },
      "source": [
        "### test"
      ]
    },
    {
      "cell_type": "code",
      "metadata": {
        "id": "z8cI7dDrIv_V",
        "colab_type": "code",
        "colab": {}
      },
      "source": [
        "import numpy as np\n",
        "\n",
        "\n",
        "def plot_confusion_matrix(cm,\n",
        "                          target_names,\n",
        "                          title='Confusion matrix',\n",
        "                          cmap=None,\n",
        "                          normalize=True):\n",
        "\n",
        "    import matplotlib.pyplot as plt\n",
        "    import numpy as np\n",
        "    import itertools\n",
        "\n",
        "    accuracy = np.trace(cm) / float(np.sum(cm))\n",
        "    misclass = 1 - accuracy\n",
        "\n",
        "    if cmap is None:\n",
        "        cmap = plt.get_cmap('Blues')\n",
        "\n",
        "    plt.figure(figsize=(8, 6))\n",
        "    plt.imshow(cm, interpolation='nearest', cmap=cmap)\n",
        "    plt.title(title)\n",
        "    plt.colorbar()\n",
        "\n",
        "    if target_names is not None:\n",
        "        tick_marks = np.arange(len(target_names))\n",
        "        plt.xticks(tick_marks, target_names, rotation=45)\n",
        "        plt.yticks(tick_marks, target_names)\n",
        "\n",
        "    if normalize:\n",
        "        cm = cm.astype('float') / cm.sum(axis=1)[:, np.newaxis]\n",
        "\n",
        "\n",
        "    thresh = cm.max() / 2 if normalize else cm.max() / 2\n",
        "    for i, j in itertools.product(range(cm.shape[0]), range(cm.shape[1])):\n",
        "        if normalize:\n",
        "            plt.text(j, i, \"{:0.4f}\".format(cm[i, j]),\n",
        "                     horizontalalignment=\"center\",\n",
        "                     color=\"red\" if cm[i, j] > thresh else \"black\")\n",
        "        else:\n",
        "            plt.text(j, i, \"{:,}\".format(cm[i, j]),\n",
        "                     horizontalalignment=\"center\",\n",
        "                     color=\"white\" if cm[i, j] > thresh else \"black\")\n",
        "\n",
        "\n",
        "    plt.tight_layout()\n",
        "    plt.ylabel('True label')\n",
        "    plt.xlabel('Predicted label\\naccuracy={:0.4f}; misclass={:0.4f}'.format(accuracy, misclass))\n",
        "    plt.show()"
      ],
      "execution_count": 0,
      "outputs": []
    },
    {
      "cell_type": "code",
      "metadata": {
        "id": "pkJPmakpJBGx",
        "colab_type": "code",
        "outputId": "03d83017-e7cc-4246-eb47-9f4de36d7dc7",
        "colab": {
          "base_uri": "https://localhost:8080/",
          "height": 466
        }
      },
      "source": [
        "plot_confusion_matrix(cm           = cm ,\n",
        "                      normalize    = False,\n",
        "                      target_names = ['ak', 'bcc', 'bkl', 'df', 'mel', 'nv', 'scc', 'vasc'],\n",
        "                      title        = \"Confusion Matrix\")"
      ],
      "execution_count": 51,
      "outputs": [
        {
          "output_type": "display_data",
          "data": {
            "image/png": "[encoded data removed]",
            "text/plain": [
              "<Figure size 576x432 with 2 Axes>"
            ]
          },
          "metadata": {
            "tags": []
          }
        }
      ]
    },
    {
      "cell_type": "code",
      "metadata": {
        "id": "r88Lcs44JZ0k",
        "colab_type": "code",
        "outputId": "5d7bb2ce-c4b5-4d6c-e15c-ab7bb1ce24a8",
        "colab": {
          "base_uri": "https://localhost:8080/",
          "height": 466
        }
      },
      "source": [
        "plot_confusion_matrix(cm           = cm, \n",
        "                      normalize    = True,\n",
        "                      target_names = ['ak', 'bcc', 'bkl', 'df', 'mel', 'nv', 'scc', 'vasc'],\n",
        "                      title        = \"Confusion Matrix, Normalized\")"
      ],
      "execution_count": 52,
      "outputs": [
        {
          "output_type": "display_data",
          "data": {
            "image/png": "[encoded data removed]",
            "text/plain": [
              "<Figure size 576x432 with 2 Axes>"
            ]
          },
          "metadata": {
            "tags": []
          }
        }
      ]
    }
  ]
}