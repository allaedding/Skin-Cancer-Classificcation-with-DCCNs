{
  "nbformat": 4,
  "nbformat_minor": 0,
  "metadata": {
    "colab": {
      "name": "skin_lesion_analyzer_binary_vasc_df.ipynb",
      "version": "0.3.2",
      "provenance": [],
      "collapsed_sections": [
        "oGmdvy0tXJ_z",
        "yC0lH1yzwBQG",
        "KXJV5W0CwBQW",
        "-l42GkFNPO6r",
        "h7E4RbU-PO6z",
        "Gic3GzegPO68",
        "5jSzmfYZPO7c",
        "BkQ1XBSjPO7u",
        "eSzViyXUPO8d"
      ]
    },
    "language_info": {
      "name": "python",
      "version": "3.6.6",
      "mimetype": "text/x-python",
      "codemirror_mode": {
        "name": "ipython",
        "version": 3
      },
      "pygments_lexer": "ipython3",
      "nbconvert_exporter": "python",
      "file_extension": ".py"
    },
    "kernelspec": {
      "name": "python3",
      "display_name": "Python 3"
    },
    "accelerator": "GPU"
  },
  "cells": [
    {
      "cell_type": "markdown",
      "metadata": {
        "id": "oGmdvy0tXJ_z",
        "colab_type": "text"
      },
      "source": [
        "### download data set"
      ]
    },
    {
      "cell_type": "code",
      "metadata": {
        "id": "l2YZjl5KFrtQ",
        "colab_type": "code",
        "outputId": "dcbf3f26-0f93-48da-91bc-ab865530162a",
        "colab": {
          "base_uri": "https://localhost:8080/",
          "height": 125
        }
      },
      "source": [
        "from google.colab import drive\n",
        "drive.mount('/content/drive')\n",
        "#allaeddine.guissous@gmail.com account contain the dataset"
      ],
      "execution_count": 0,
      "outputs": [
        {
          "output_type": "stream",
          "text": [
            "Go to this URL in a browser: https://accounts.google.com/o/oauth2/auth?client_id=947318989803-6bn6qk8qdgf4n4g3pfee6491hc0brc4i.apps.googleusercontent.com&redirect_uri=urn%3Aietf%3Awg%3Aoauth%3A2.0%3Aoob&scope=email%20https%3A%2F%2Fwww.googleapis.com%2Fauth%2Fdocs.test%20https%3A%2F%2Fwww.googleapis.com%2Fauth%2Fdrive%20https%3A%2F%2Fwww.googleapis.com%2Fauth%2Fdrive.photos.readonly%20https%3A%2F%2Fwww.googleapis.com%2Fauth%2Fpeopleapi.readonly&response_type=code\n",
            "\n",
            "Enter your authorization code:\n",
            "··········\n",
            "Mounted at /content/drive\n"
          ],
          "name": "stdout"
        }
      ]
    },
    {
      "cell_type": "code",
      "metadata": {
        "id": "9REv0n6wHHJh",
        "colab_type": "code",
        "colab": {}
      },
      "source": [
        "#Extract the data\n",
        "#!unzip ISIC_2019_Training_Input.zip\n",
        "\n",
        "import zipfile\n",
        "import time\n",
        "start = time.time()\n",
        "with zipfile.ZipFile(\"drive/My Drive/skin-cancer-mnist-ham10000.zip\",\"r\") as zip_ref:\n",
        "    zip_ref.extractall()\n",
        "\n",
        "end = time.time()\n",
        "elapsed = end - start\n",
        "print(elapsed)"
      ],
      "execution_count": 0,
      "outputs": []
    },
    {
      "cell_type": "code",
      "metadata": {
        "id": "DC37KgnCU4ji",
        "colab_type": "code",
        "colab": {}
      },
      "source": [
        "with zipfile.ZipFile(\"HAM10000_images_part_1.zip\",\"r\") as zip_ref:\n",
        "    zip_ref.extractall(\"input2/HAM10000_images_part_1\")\n",
        "    \n",
        "with zipfile.ZipFile(\"HAM10000_images_part_2.zip\",\"r\") as zip_ref:\n",
        "    zip_ref.extractall(\"input2/HAM10000_images_part_2\")    "
      ],
      "execution_count": 0,
      "outputs": []
    },
    {
      "cell_type": "code",
      "metadata": {
        "colab_type": "code",
        "id": "0WyHZdrV3wmp",
        "colab": {}
      },
      "source": [
        ""
      ],
      "execution_count": 0,
      "outputs": []
    },
    {
      "cell_type": "code",
      "metadata": {
        "trusted": true,
        "_uuid": "d5a0a200bfc57c5489eaa930255d9420a7d01c47",
        "id": "LUOtCLKcPO6n",
        "colab_type": "code",
        "colab": {}
      },
      "source": [
        "#!rm -r input\n"
      ],
      "execution_count": 0,
      "outputs": []
    },
    {
      "cell_type": "code",
      "metadata": {
        "trusted": true,
        "_uuid": "371731306c3e504b191979706e826c247def88dc",
        "id": "IUaVCvnaPO6h",
        "colab_type": "code",
        "colab": {}
      },
      "source": [
        "from numpy.random import seed\n",
        "seed(101)\n",
        "from tensorflow import set_random_seed\n",
        "set_random_seed(101)\n",
        "\n",
        "import pandas as pd\n",
        "import numpy as np\n",
        "#import keras\n",
        "#from keras import backend as K\n",
        "\n",
        "import tensorflow\n",
        "from tensorflow.keras.layers import Dense, Dropout\n",
        "from tensorflow.keras.optimizers import Adam\n",
        "from tensorflow.keras.metrics import categorical_crossentropy\n",
        "from tensorflow.keras.preprocessing.image import ImageDataGenerator\n",
        "from tensorflow.keras.models import Model\n",
        "from tensorflow.keras import layers\n",
        "from tensorflow.keras.callbacks import EarlyStopping, ReduceLROnPlateau, ModelCheckpoint\n",
        "\n",
        "import os\n",
        "\n",
        "from sklearn.metrics import confusion_matrix\n",
        "from sklearn.model_selection import train_test_split\n",
        "import itertools\n",
        "import shutil\n",
        "import matplotlib.pyplot as plt\n",
        "%matplotlib inline\n"
      ],
      "execution_count": 0,
      "outputs": []
    },
    {
      "cell_type": "markdown",
      "metadata": {
        "colab_type": "text",
        "id": "yC0lH1yzwBQG"
      },
      "source": [
        "### color_constancy"
      ]
    },
    {
      "cell_type": "code",
      "metadata": {
        "id": "leAaG6oNu5DJ",
        "colab_type": "code",
        "colab": {}
      },
      "source": [
        "# !rm -r ISIC_2019_Training_Input2\n",
        "# !rm -r base_dir"
      ],
      "execution_count": 0,
      "outputs": []
    },
    {
      "cell_type": "code",
      "metadata": {
        "colab_type": "code",
        "id": "HMAQeujAwBQG",
        "colab": {}
      },
      "source": [
        "import numpy as np\n",
        "import cv2\n",
        "import os\n",
        "from matplotlib import pyplot as plt\n",
        "\n",
        "def gray_world(img):\n",
        "    \"\"\"\n",
        "    Parameters\n",
        "    ----------\n",
        "    img: 2D numpy array\n",
        "        The original image with format of (h, w, c)\n",
        "    \"\"\"\n",
        "    img = img.astype(np.float)\n",
        "    pixels_num = img.shape[0] * img.shape[1]\n",
        "    bgr_avg = np.sum(np.sum(img, axis = 0), axis = 0) / pixels_num\n",
        "    gray_avg = np.sum(bgr_avg) / img.shape[2]\n",
        "    bgr_k = gray_avg / bgr_avg\n",
        "    return img * np.transpose(bgr_k)\n",
        "def white_patch_retinex(img, para):\n",
        "    \"\"\"\n",
        "    Parameters\n",
        "    ----------\n",
        "    img: 2D numpy array\n",
        "        The original image with format of (h, w, c)\n",
        "    para: 0 or 1\n",
        "        0 : original algorithm\n",
        "        1 : optimization algorithm\n",
        "    \"\"\"\n",
        "    img = img.astype(np.float)\n",
        "    out = np.zeros(img.shape, dtype=float)\n",
        "    L = [0, 0, 0]\n",
        "    if para == 0:\n",
        "        for i in range(3):\n",
        "            L[i] = np.max(img[:, :, i].flatten())\n",
        "            out[:, :, i] = img[:, :, i] * 255.0 / L[i]\n",
        "    elif para == 1:\n",
        "        n_p = 0.1 * img.shape[0] * img.shape[1]\n",
        "        for i in range(3):\n",
        "            H, bins = np.histogram(img[:, :, i].flatten(), 256)\n",
        "            sums = 0\n",
        "            for j in range(255, -1, -1):\n",
        "                if sums < n_p:\n",
        "                    sums += H[j]\n",
        "                else:\n",
        "                    L[i] = j\n",
        "                    out[:, :, i] = img[:, :, i] * 255.0 / L[i]\n",
        "                    break\n",
        "    return out\n",
        "def shade_of_gray(img, power=6, gamma=None):\n",
        "    \"\"\"\n",
        "    Parameters\n",
        "    ----------\n",
        "    img: 2D numpy array\n",
        "        The original image with format of (h, w, c)\n",
        "    power: int\n",
        "        The degree of norm, 6 is used in reference paper\n",
        "    gamma: float\n",
        "        The value of gamma correction, 2.2 is used in reference paper\n",
        "    \"\"\"\n",
        "    img_dtype = img.dtype\n",
        "\n",
        "    if gamma is not None:\n",
        "        img = img.astype('uint8')\n",
        "        look_up_table = np.ones((256,1), dtype='uint8') * 0\n",
        "        for i in xrange(256):\n",
        "            look_up_table[i][0] = 255 * pow(i/255, 1/gamma)\n",
        "        img = cv2.LUT(img, look_up_table)\n",
        "\n",
        "    img = img.astype('float32')\n",
        "    img_power = np.power(img, power)\n",
        "    rgb_vec = np.power(np.mean(img_power, (0,1)), 1/power)\n",
        "    rgb_norm = np.sqrt(np.sum(np.power(rgb_vec, 2.0)))\n",
        "    rgb_vec = rgb_vec/rgb_norm\n",
        "    rgb_vec = 1/(rgb_vec*np.sqrt(3))\n",
        "    img = np.multiply(img, rgb_vec)\n",
        "\n",
        "    return img.astype(img_dtype)\n",
        "def general_gray_world(img, power=2, sigma=3):\n",
        "    \"\"\"\n",
        "    Parameters\n",
        "    ----------\n",
        "    img: 2D numpy array\n",
        "        The original image with format of (h, w, c)\n",
        "    power: int\n",
        "        The degree of norm, 2 is used in reference paper\n",
        "    sigma: float\n",
        "        Filtering image with a Guassian low-pass filter with standard deviation sigma\n",
        "    \"\"\"\n",
        "    blur = cv2.GaussianBlur(img, (3, 3), sigma)\n",
        "    return shade_of_gray(blur, power)\n",
        "  \n"
      ],
      "execution_count": 0,
      "outputs": []
    },
    {
      "cell_type": "code",
      "metadata": {
        "id": "QCfJkiyA5OJ8",
        "colab_type": "code",
        "colab": {}
      },
      "source": [
        "import os\n",
        "data_list=[]\n",
        "\n",
        "for dirname, dirnames, filenames in os.walk('input2'):\n",
        "    # print path to all subdirectories first.\n",
        "    #for subdirname in dirnames:\n",
        "        #print(os.path.join(dirname, subdirname))\n",
        "\n",
        "    # print path to all filenames.\n",
        "    for filename in filenames:\n",
        "        path = os.path.join(dirname, filename)\n",
        "        path = os.path.relpath(path, 'input2') \n",
        "        data_list.append(path)\n",
        "       \n",
        "        #print(os.path.join(dirname, filename))\n",
        "        \n",
        "    # Advanced usage:\n",
        "    # editing the 'dirnames' list will stop os.walk() from recursing into there.\n",
        "    if '.git' in dirnames:\n",
        "        # don't go into any .git directories.\n",
        "        dirnames.remove('.git')\n",
        "        \n",
        "       "
      ],
      "execution_count": 0,
      "outputs": []
    },
    {
      "cell_type": "code",
      "metadata": {
        "id": "_UL-8XU7I9d2",
        "colab_type": "code",
        "colab": {}
      },
      "source": [
        "os.mkdir('input')\n",
        "os.mkdir('input/HAM10000_images_part_1')\n",
        "os.mkdir('input/HAM10000_images_part_2')\n"
      ],
      "execution_count": 0,
      "outputs": []
    },
    {
      "cell_type": "code",
      "metadata": {
        "colab_type": "code",
        "id": "PxfFMMkywBQG",
        "colab": {}
      },
      "source": [
        "import cv2 as cv\n",
        "import os\n",
        "#import process_bar\n",
        "import sys\n",
        "import time\n",
        "start = time.time()\n",
        "from IPython.display import clear_output\n",
        "#width = 320\n",
        "#width = 480\n",
        "\n",
        "# data_d1 = os.listdir('input/HAM10000_images_part_1')\n",
        "# data_d2 = os.listdir('input/HAM10000_images_part_2')\n",
        "# data_dir = []\n",
        "# data_d1.extend(data_d2)\n",
        " \n",
        "\n",
        "#data_dir = '../data/ISIC2018/ISIC2018_Task3_Validation_Input/'\n",
        "#for cnt in [2,5,8,9]:\n",
        "#cnt = int(sys.argv[1])\n",
        "#output_dir = '../data/valid_{}'.format(cnt)\n",
        "#output_dir = './valid_wpr1'\n",
        "output_dir = 'input'\n",
        "data_dir = 'input2'\n",
        "os.makedirs(output_dir, exist_ok=True)\n",
        "#print('-----{}-----'.format(cnt))\n",
        "cpt = 0\n",
        "done = 0\n",
        "#process_bar_ = process_bar.process_bar(195)\n",
        "for img in data_list :\n",
        "    if img.split('.')[-1] != 'jpg':\n",
        "        continue\n",
        "    image_path = os.path.join(data_dir, img)\n",
        "    image_np = cv.imread(image_path)\n",
        "    #image_np =cv2.resize(image_np,(width,width)) \n",
        "   \n",
        "    #new_image_np = shade_of_gray(image_np, power=cnt)\n",
        "    new_image_np = white_patch_retinex(image_np, 1)\n",
        "    output_path = os.path.join(output_dir, img)\n",
        "    #print(output_path)\n",
        "    cv.imwrite(output_path,new_image_np)\n",
        "    #process_bar_.show_process()\n",
        "    cpt =  cpt + 1\n",
        "    if cpt == 1000:\n",
        "      done = done + 1000\n",
        "      clear_output()\n",
        "      print(10015-done,' remaining')\n",
        "     \n",
        "      cpt = 0\n",
        "\n",
        "end = time.time()\n",
        "elapsed = end - start\n",
        "print(elapsed)      "
      ],
      "execution_count": 0,
      "outputs": []
    },
    {
      "cell_type": "markdown",
      "metadata": {
        "colab_type": "text",
        "id": "KXJV5W0CwBQW"
      },
      "source": [
        "### visualize color constancy\n"
      ]
    },
    {
      "cell_type": "code",
      "metadata": {
        "colab_type": "code",
        "id": "EBwPnjqPwBQW",
        "colab": {}
      },
      "source": [
        "import matplotlib.pyplot as plt\n",
        "import matplotlib.image as mpimg\n",
        "image = mpimg.imread(image_path)\n",
        "image2 = mpimg.imread(output_path)\n",
        "plt.imshow(image)\n",
        "plt.show()\n",
        "plt.imshow(image2)\n",
        "plt.show()"
      ],
      "execution_count": 0,
      "outputs": []
    },
    {
      "cell_type": "code",
      "metadata": {
        "colab_type": "code",
        "id": "lCpLyaNx2miB",
        "colab": {}
      },
      "source": [
        "!cp HAM10000_metadata.csv -d input"
      ],
      "execution_count": 0,
      "outputs": []
    },
    {
      "cell_type": "markdown",
      "metadata": {
        "_uuid": "086162161ba405b800863e7d545b5917e5205984",
        "id": "-l42GkFNPO6r",
        "colab_type": "text"
      },
      "source": [
        "### Create the directory structure\n",
        "\n",
        "In these folders we will store the images that will later be fed to the Keras generators. "
      ]
    },
    {
      "cell_type": "code",
      "metadata": {
        "id": "wTyCMXiYZ5U0",
        "colab_type": "code",
        "colab": {}
      },
      "source": [
        "base_dir = 'base_dir'\n",
        "train_dir = os.path.join(base_dir, 'train_dir')\n",
        "val_dir = os.path.join(base_dir, 'val_dir')"
      ],
      "execution_count": 0,
      "outputs": []
    },
    {
      "cell_type": "code",
      "metadata": {
        "trusted": true,
        "_uuid": "d24ef21f9f2359b8bf6b3e7a0b8ab5a43daaf566",
        "id": "koyDzaZ4PO6t",
        "colab_type": "code",
        "colab": {}
      },
      "source": [
        "\n",
        "\n",
        "# Create a new directory\n",
        "base_dir = 'base_dir'\n",
        "os.mkdir(base_dir)\n",
        "\n",
        "\n",
        "#[CREATE FOLDERS INSIDE THE BASE DIRECTORY]\n",
        "\n",
        "# now we create 7 folders inside 'base_dir':\n",
        "\n",
        "\n",
        "# create a path to 'base_dir' to which we will join the names of the new folders\n",
        "# train_dir\n",
        "train_dir = os.path.join(base_dir, 'train_dir')\n",
        "os.mkdir(train_dir)\n",
        "\n",
        "# val_dir\n",
        "val_dir = os.path.join(base_dir, 'val_dir')\n",
        "os.mkdir(val_dir)\n",
        "\n",
        "\n",
        "# [CREATE FOLDERS INSIDE THE TRAIN, VALIDATION AND TEST FOLDERS]\n",
        "# Inside each folder we create seperate folders for each class\n",
        "\n",
        "# create new folders inside train_dir\n",
        "nv = os.path.join(train_dir, 'nv')\n",
        "os.mkdir(nv)\n",
        "mel = os.path.join(train_dir, 'mel')\n",
        "os.mkdir(mel)\n",
        "bkl = os.path.join(train_dir, 'bkl')\n",
        "os.mkdir(bkl)\n",
        "bcc = os.path.join(train_dir, 'bcc')\n",
        "os.mkdir(bcc)\n",
        "akiec = os.path.join(train_dir, 'akiec')\n",
        "os.mkdir(akiec)\n",
        "vasc = os.path.join(train_dir, 'vasc')\n",
        "os.mkdir(vasc)\n",
        "df = os.path.join(train_dir, 'df')\n",
        "os.mkdir(df)\n",
        "\n",
        "\n",
        "\n",
        "# create new folders inside val_dir\n",
        "nv = os.path.join(val_dir, 'nv')\n",
        "os.mkdir(nv)\n",
        "mel = os.path.join(val_dir, 'mel')\n",
        "os.mkdir(mel)\n",
        "bkl = os.path.join(val_dir, 'bkl')\n",
        "os.mkdir(bkl)\n",
        "bcc = os.path.join(val_dir, 'bcc')\n",
        "os.mkdir(bcc)\n",
        "akiec = os.path.join(val_dir, 'akiec')\n",
        "os.mkdir(akiec)\n",
        "vasc = os.path.join(val_dir, 'vasc')\n",
        "os.mkdir(vasc)\n",
        "df = os.path.join(val_dir, 'df')\n",
        "os.mkdir(df)\n",
        "\n"
      ],
      "execution_count": 0,
      "outputs": []
    },
    {
      "cell_type": "markdown",
      "metadata": {
        "_uuid": "4ae8d37fdee293aaffa71a79019dd7277f8288fc",
        "id": "h7E4RbU-PO6z",
        "colab_type": "text"
      },
      "source": [
        "### Create Train and Val Sets"
      ]
    },
    {
      "cell_type": "code",
      "metadata": {
        "id": "eIEVE1D1NdMn",
        "colab_type": "code",
        "colab": {}
      },
      "source": [
        "!cp HAM10000_metadata.csv -d input"
      ],
      "execution_count": 0,
      "outputs": []
    },
    {
      "cell_type": "code",
      "metadata": {
        "trusted": true,
        "_uuid": "268503398ef61904e05a2c0b0667d589f08a19a8",
        "id": "xHLeKPKOPO60",
        "colab_type": "code",
        "colab": {}
      },
      "source": [
        "df_data = pd.read_csv('input/HAM10000_metadata.csv')\n",
        "\n",
        "df_data.head()"
      ],
      "execution_count": 0,
      "outputs": []
    },
    {
      "cell_type": "markdown",
      "metadata": {
        "_uuid": "c46ea5967e095d31dcf144b6f57f0343878fa432",
        "id": "Gic3GzegPO68",
        "colab_type": "text"
      },
      "source": [
        "### Create a stratified val set"
      ]
    },
    {
      "cell_type": "code",
      "metadata": {
        "trusted": true,
        "_uuid": "53e4b7b152ed831a7d7516156ac300c0e6985ffc",
        "id": "R18VSt_APO6_",
        "colab_type": "code",
        "colab": {}
      },
      "source": [
        "# this will tell us how many images are associated with each lesion_id\n",
        "df = df_data.groupby('lesion_id').count()\n",
        "\n",
        "# now we filter out lesion_id's that have only one image associated with it\n",
        "df = df[df['image_id'] == 1]\n",
        "\n",
        "df.reset_index(inplace=True)\n",
        "\n",
        "df.head()"
      ],
      "execution_count": 0,
      "outputs": []
    },
    {
      "cell_type": "code",
      "metadata": {
        "trusted": true,
        "_uuid": "24720fe3ea9f2f4b571abd09ecfbb931d6429852",
        "id": "cAVOhtcxPO7D",
        "colab_type": "code",
        "colab": {}
      },
      "source": [
        "# here we identify lesion_id's that have duplicate images and those that have only\n",
        "# one image.\n",
        "\n",
        "def identify_duplicates(x):\n",
        "    \n",
        "    unique_list = list(df['lesion_id'])\n",
        "    \n",
        "    if x in unique_list:\n",
        "        return 'no_duplicates'\n",
        "    else:\n",
        "        return 'has_duplicates'\n",
        "    \n",
        "# create a new colum that is a copy of the lesion_id column\n",
        "df_data['duplicates'] = df_data['lesion_id']\n",
        "# apply the function to this new column\n",
        "df_data['duplicates'] = df_data['duplicates'].apply(identify_duplicates)\n",
        "\n",
        "df_data.head()"
      ],
      "execution_count": 0,
      "outputs": []
    },
    {
      "cell_type": "code",
      "metadata": {
        "trusted": true,
        "_uuid": "08b7eef3e0ac4112f63b8fb26ce19d55483cbc04",
        "id": "-OT__VkqPO7H",
        "colab_type": "code",
        "colab": {}
      },
      "source": [
        "df_data['duplicates'].value_counts()"
      ],
      "execution_count": 0,
      "outputs": []
    },
    {
      "cell_type": "code",
      "metadata": {
        "trusted": true,
        "_uuid": "995445dfda2745165a53e61f42615104b951d4af",
        "id": "-BOl1p63PO7M",
        "colab_type": "code",
        "colab": {}
      },
      "source": [
        "# now we filter out images that don't have duplicates\n",
        "df = df_data[df_data['duplicates'] == 'no_duplicates']\n",
        "\n",
        "df.shape"
      ],
      "execution_count": 0,
      "outputs": []
    },
    {
      "cell_type": "code",
      "metadata": {
        "trusted": true,
        "_uuid": "39fde25b59a9452cf700c5b2ff82cc7cc45c4a33",
        "id": "dmgz59BAPO7S",
        "colab_type": "code",
        "colab": {}
      },
      "source": [
        "# now we create a val set using df because we are sure that none of these images\n",
        "# have augmented duplicates in the train set\n",
        "y = df['dx']\n",
        "\n",
        "_, df_val = train_test_split(df, test_size=0.17, random_state=101, stratify=y)\n",
        "\n",
        "df_val.shape"
      ],
      "execution_count": 0,
      "outputs": []
    },
    {
      "cell_type": "code",
      "metadata": {
        "trusted": true,
        "_uuid": "1df37227f7ce993d054ed5b8480ee724696fc210",
        "id": "S2Z6rqbdPO7X",
        "colab_type": "code",
        "colab": {}
      },
      "source": [
        "df_val['dx'].value_counts()"
      ],
      "execution_count": 0,
      "outputs": []
    },
    {
      "cell_type": "markdown",
      "metadata": {
        "_uuid": "08c5e12fcef2da5f49267a6b82161b2c52c2b20a",
        "id": "5jSzmfYZPO7c",
        "colab_type": "text"
      },
      "source": [
        "### Create a train set that excludes images that are in the val set"
      ]
    },
    {
      "cell_type": "code",
      "metadata": {
        "trusted": true,
        "_uuid": "03715a6cf5aeb6430ee144a84eb10dde216c0fb9",
        "id": "sxdXjZn2PO7f",
        "colab_type": "code",
        "colab": {}
      },
      "source": [
        "# This set will be df_data excluding all rows that are in the val set\n",
        "\n",
        "# This function identifies if an image is part of the train\n",
        "# or val set.\n",
        "def identify_val_rows(x):\n",
        "    # create a list of all the lesion_id's in the val set\n",
        "    val_list = list(df_val['image_id'])\n",
        "    \n",
        "    if str(x) in val_list:\n",
        "        return 'val'\n",
        "    else:\n",
        "        return 'train'\n",
        "\n",
        "# identify train and val rows\n",
        "\n",
        "# create a new colum that is a copy of the image_id column\n",
        "df_data['train_or_val'] = df_data['image_id']\n",
        "# apply the function to this new column\n",
        "df_data['train_or_val'] = df_data['train_or_val'].apply(identify_val_rows)\n",
        "   \n",
        "# filter out train rows\n",
        "df_train = df_data[df_data['train_or_val'] == 'train']\n",
        "\n",
        "\n",
        "print(len(df_train))\n",
        "print(len(df_val))"
      ],
      "execution_count": 0,
      "outputs": []
    },
    {
      "cell_type": "code",
      "metadata": {
        "trusted": true,
        "_uuid": "4b976a9018b1bd2dc0522c68339c5861534a1571",
        "id": "QedikeXTPO7f",
        "colab_type": "code",
        "colab": {}
      },
      "source": [
        "df_train['dx'].value_counts()"
      ],
      "execution_count": 0,
      "outputs": []
    },
    {
      "cell_type": "code",
      "metadata": {
        "trusted": true,
        "_uuid": "1581d5a3e86f9673ae175102112017e30229bc37",
        "id": "kSdcVy07PO7u",
        "colab_type": "code",
        "colab": {}
      },
      "source": [
        "df_val['dx'].value_counts()"
      ],
      "execution_count": 0,
      "outputs": []
    },
    {
      "cell_type": "markdown",
      "metadata": {
        "_uuid": "8812ad87c4fa18d2d82497df42c3895c7f10bc39",
        "id": "BkQ1XBSjPO7u",
        "colab_type": "text"
      },
      "source": [
        "### Transfer the Images into the Folders"
      ]
    },
    {
      "cell_type": "code",
      "metadata": {
        "id": "mzA6xltPOc5f",
        "colab_type": "code",
        "colab": {}
      },
      "source": [
        " #!rm -r base_dir"
      ],
      "execution_count": 0,
      "outputs": []
    },
    {
      "cell_type": "code",
      "metadata": {
        "trusted": true,
        "_uuid": "4acee2b7879762e50b52df118a9b691515fe7ac0",
        "id": "mgIzvEiSPO7u",
        "colab_type": "code",
        "colab": {}
      },
      "source": [
        "# Set the image_id as the index in df_data\n",
        "df_data.set_index('image_id', inplace=True)"
      ],
      "execution_count": 0,
      "outputs": []
    },
    {
      "cell_type": "code",
      "metadata": {
        "trusted": true,
        "_uuid": "eca02fbf066c8124d0cb465295bbd2593f5f045a",
        "id": "GCJ_og1wPO7u",
        "colab_type": "code",
        "colab": {}
      },
      "source": [
        "# Get a list of images in each of the two folders\n",
        "folder_1 = os.listdir('input/HAM10000_images_part_1')\n",
        "folder_2 = os.listdir('input/HAM10000_images_part_2')\n",
        "\n",
        "# Get a list of train and val images\n",
        "train_list = list(df_train['image_id'])\n",
        "val_list = list(df_val['image_id'])\n",
        "\n",
        "\n",
        "\n",
        "# Transfer the train images\n",
        "\n",
        "for image in train_list:\n",
        "    \n",
        "    fname = image + '.jpg'\n",
        "    label = df_data.loc[image,'dx']\n",
        "    \n",
        "    if fname in folder_1:\n",
        "        # source path to image\n",
        "        src = os.path.join('input/HAM10000_images_part_1', fname)\n",
        "        # destination path to image\n",
        "        dst = os.path.join(train_dir, label, fname)\n",
        "        # copy the image from the source to the destination\n",
        "        shutil.copyfile(src, dst)\n",
        "\n",
        "    if fname in folder_2:\n",
        "        # source path to image\n",
        "        src = os.path.join('input/HAM10000_images_part_2', fname)\n",
        "        # destination path to image\n",
        "        dst = os.path.join(train_dir, label, fname)\n",
        "        # copy the image from the source to the destination\n",
        "        shutil.copyfile(src, dst)\n",
        "\n",
        "\n",
        "# Transfer the val images\n",
        "\n",
        "for image in val_list:\n",
        "    \n",
        "    fname = image + '.jpg'\n",
        "    label = df_data.loc[image,'dx']\n",
        "    \n",
        "    if fname in folder_1:\n",
        "        # source path to image\n",
        "        src = os.path.join('input/HAM10000_images_part_1', fname)\n",
        "        # destination path to image\n",
        "        dst = os.path.join(val_dir, label, fname)\n",
        "        # copy the image from the source to the destination\n",
        "        shutil.copyfile(src, dst)\n",
        "\n",
        "    if fname in folder_2:\n",
        "        # source path to image\n",
        "        src = os.path.join('input/HAM10000_images_part_2', fname)\n",
        "        # destination path to image\n",
        "        dst = os.path.join(val_dir, label, fname)\n",
        "        # copy the image from the source to the destination\n",
        "        shutil.copyfile(src, dst)\n",
        "        "
      ],
      "execution_count": 0,
      "outputs": []
    },
    {
      "cell_type": "code",
      "metadata": {
        "id": "NddZHW20cGPn",
        "colab_type": "code",
        "colab": {}
      },
      "source": [
        "!cp -r 'drive/My Drive/drive2/base_dir/val_dir/scc' -d base_dir/val_dir"
      ],
      "execution_count": 0,
      "outputs": []
    },
    {
      "cell_type": "code",
      "metadata": {
        "id": "K1IqGg-ugV1p",
        "colab_type": "code",
        "colab": {}
      },
      "source": [
        "!cp -r 'drive/My Drive/drive2/base_dir/train_dir/scc' -d base_dir/train_dir"
      ],
      "execution_count": 0,
      "outputs": []
    },
    {
      "cell_type": "code",
      "metadata": {
        "id": "qrr1zrGYKD8P",
        "colab_type": "code",
        "colab": {}
      },
      "source": [
        "!rm -r base_dir/train_dir/akiec\n",
        "!rm -r base_dir/val_dir/akiec"
      ],
      "execution_count": 0,
      "outputs": []
    },
    {
      "cell_type": "code",
      "metadata": {
        "id": "1h6ph5c0KN-B",
        "colab_type": "code",
        "colab": {}
      },
      "source": [
        "!cp -r 'drive/My Drive/drive2/base_dir/val_dir/ak' -d base_dir/val_dir"
      ],
      "execution_count": 0,
      "outputs": []
    },
    {
      "cell_type": "code",
      "metadata": {
        "colab_type": "code",
        "id": "jYvs6WepIohD",
        "colab": {}
      },
      "source": [
        "!cp -r 'drive/My Drive/drive2/base_dir/train_dir/ak' -d base_dir/train_dir"
      ],
      "execution_count": 0,
      "outputs": []
    },
    {
      "cell_type": "code",
      "metadata": {
        "trusted": true,
        "_uuid": "5a4847c4cc799c23e57bf2531d92117cb95e1b07",
        "colab_type": "code",
        "id": "4C_BCTc-IpvN",
        "colab": {}
      },
      "source": [
        "# check how many train images we have in each folder\n",
        "total_train = 0\n",
        "\n",
        "nvt = len(os.listdir('base_dir/train_dir/nv'))\n",
        "print(nvt)\n",
        "melt = len(os.listdir('base_dir/train_dir/mel'))\n",
        "print(melt)\n",
        "bklt = len(os.listdir('base_dir/train_dir/bkl'))\n",
        "print(bklt)\n",
        "bcct = len(os.listdir('base_dir/train_dir/bcc'))\n",
        "print(bcct)\n",
        "akt = len(os.listdir('base_dir/train_dir/ak'))\n",
        "print(akt)\n",
        "vasct = len(os.listdir('base_dir/train_dir/vasc'))\n",
        "print(vasct)\n",
        "dft = len(os.listdir('base_dir/train_dir/df'))\n",
        "print(dft)\n",
        "scct = len(os.listdir('base_dir/train_dir/scc'))\n",
        "print(scct)\n",
        "\n",
        "total_train = nvt+melt+bklt+bcct+akt+vasct+dft+scct\n",
        "print(total_train)"
      ],
      "execution_count": 0,
      "outputs": []
    },
    {
      "cell_type": "code",
      "metadata": {
        "trusted": true,
        "_uuid": "fd05c08cbfa00418dc333f5b67d1ff6e98aa973e",
        "colab_type": "code",
        "id": "VHEeklmkIuht",
        "colab": {}
      },
      "source": [
        "# check how many val images we have in each folder\n",
        "total_val = 0\n",
        "nv = len(os.listdir('base_dir/val_dir/nv'))\n",
        "print(nv)\n",
        "mel = len(os.listdir('base_dir/val_dir/mel'))\n",
        "print(mel)\n",
        "bkl = len(os.listdir('base_dir/val_dir/bkl'))\n",
        "print(bkl)\n",
        "bcc = len(os.listdir('base_dir/val_dir/bcc'))\n",
        "print(bcc)\n",
        "ak = len(os.listdir('base_dir/val_dir/ak'))\n",
        "print(ak)\n",
        "vasc = len(os.listdir('base_dir/val_dir/vasc'))\n",
        "print(vasc)\n",
        "df = len(os.listdir('base_dir/val_dir/df'))\n",
        "print(df)\n",
        "scc = len(os.listdir('base_dir/val_dir/scc'))\n",
        "print(scc)\n",
        "\n",
        "total_val=nv+mel+bkl+bcc+ak+vasc+df+scc\n",
        "print(total_val)"
      ],
      "execution_count": 0,
      "outputs": []
    },
    {
      "cell_type": "markdown",
      "metadata": {
        "id": "rNp8KLZrLFP7",
        "colab_type": "text"
      },
      "source": [
        "### binary transformation"
      ]
    },
    {
      "cell_type": "code",
      "metadata": {
        "id": "z6w7vW8bLKSw",
        "colab_type": "code",
        "colab": {}
      },
      "source": [
        ""
      ],
      "execution_count": 0,
      "outputs": []
    },
    {
      "cell_type": "code",
      "metadata": {
        "id": "V22kzMBsjJ-C",
        "colab_type": "code",
        "colab": {}
      },
      "source": [
        "#Delete all images except 5 in each folder in val_dir, except MEL and NV \n",
        "import os, random\n",
        "fldlist = os.listdir('base_dir/val_dir')\n",
        "for fld in fldlist:\n",
        "  if not (fld == 'vasc' or fld == 'df'):\n",
        "      for i in range(len(os.listdir(os.path.join(val_dir,fld)))-1):\n",
        "          file = random.choice(os.listdir(os.path.join(val_dir,fld)))\n",
        "          dst = os.path.join(val_dir,fld, file)\n",
        "          os.remove(dst)"
      ],
      "execution_count": 0,
      "outputs": []
    },
    {
      "cell_type": "code",
      "metadata": {
        "colab_type": "code",
        "id": "0WH0z27enQEh",
        "colab": {}
      },
      "source": [
        "total = 0\n",
        "train_list = os.listdir(val_dir)\n",
        "for col in train_list:\n",
        "        npath = os.path.join(val_dir, col)\n",
        "        print(col,len(os.listdir(npath)))\n",
        "        total = total+len(os.listdir(npath))\n",
        "print('total = ',total)        \n",
        "val_len = total"
      ],
      "execution_count": 0,
      "outputs": []
    },
    {
      "cell_type": "code",
      "metadata": {
        "id": "KcpPGUJcz-TL",
        "colab_type": "code",
        "colab": {}
      },
      "source": [
        "#Delete all images except 5 in each folder in train_dir, except MEL and NV \n",
        "import os, random\n",
        "fldlist = os.listdir('base_dir/train_dir')\n",
        "for fld in fldlist:\n",
        "  if not (fld == 'vasc' or fld == 'df'):\n",
        "      for i in range(len(os.listdir(os.path.join(train_dir,fld)))-5):\n",
        "          file = random.choice(os.listdir(os.path.join(train_dir,fld)))\n",
        "          dst = os.path.join(train_dir,fld, file)\n",
        "          os.remove(dst)"
      ],
      "execution_count": 0,
      "outputs": []
    },
    {
      "cell_type": "code",
      "metadata": {
        "colab_type": "code",
        "id": "7RwFzN2oyqfn",
        "colab": {
          "base_uri": "https://localhost:8080/",
          "height": 323
        },
        "outputId": "05c94cce-18c4-494a-f44b-07e87724d7fe"
      },
      "source": [
        "# training examples\n",
        "total = 0\n",
        "train_list = os.listdir(train_dir)\n",
        "for col in train_list:\n",
        "        npath = os.path.join(train_dir, col)\n",
        "        print(col,len(os.listdir(npath)))\n",
        "        total = total+len(os.listdir(npath))\n",
        "print('total = ',total) \n",
        "train_len = total"
      ],
      "execution_count": 38,
      "outputs": [
        {
          "output_type": "stream",
          "text": [
            "nv 5\n",
            "mel 5\n",
            "ak 5\n",
            "scc 5\n",
            "bkl 5\n",
            "df 109\n",
            "vasc 131\n",
            "bcc 5\n",
            "total =  270\n",
            "nv 5\n",
            "mel 5\n",
            "ak 5\n",
            "scc 5\n",
            "bkl 5\n",
            "df 109\n",
            "vasc 131\n",
            "bcc 5\n",
            "total =  270\n"
          ],
          "name": "stdout"
        }
      ]
    },
    {
      "cell_type": "markdown",
      "metadata": {
        "_uuid": "cebcb5242ff542efb03be5086bf3796bea70c591",
        "id": "xLlumrKqPO7-",
        "colab_type": "text"
      },
      "source": [
        "### Copy the train images  into aug_dir"
      ]
    },
    {
      "cell_type": "code",
      "metadata": {
        "trusted": true,
        "_uuid": "8fe970d74e9d5a284420af4ad37d8aae89dc1c15",
        "colab_type": "code",
        "id": "0qkSLWbQLvlD",
        "colab": {
          "base_uri": "https://localhost:8080/",
          "height": 85
        },
        "outputId": "cccb6565-998c-42d6-9a4e-4f099edd7968"
      },
      "source": [
        "# note that we are not augmenting class 'nv'\n",
        "#class_list = ['mel','bkl','bcc','ak','vasc','df','scc','nv']\n",
        "class_list = ['vasc','df']\n",
        "for item in class_list:\n",
        "    \n",
        "    # We are creating temporary directories here because we delete these directories later\n",
        "    # create a base dir\n",
        "    aug_dir = 'aug_dir'\n",
        "    os.mkdir(aug_dir)\n",
        "    # create a dir within the base dir to store images of the same class\n",
        "    img_dir = os.path.join(aug_dir, 'img_dir')\n",
        "    os.mkdir(img_dir)\n",
        "\n",
        "    # Choose a class\n",
        "    img_class = item\n",
        "\n",
        "    # list all images in that directory\n",
        "    img_list = os.listdir('base_dir/train_dir/' + img_class)\n",
        "\n",
        "    # Copy images from the class train dir to the img_dir e.g. class 'mel'\n",
        "    for fname in img_list:\n",
        "            # source path to image\n",
        "            src = os.path.join('base_dir/train_dir/' + img_class, fname)\n",
        "            # destination path to image\n",
        "            dst = os.path.join(img_dir, fname)\n",
        "            # copy the image from the source to the destination\n",
        "            shutil.copyfile(src, dst)\n",
        "\n",
        "\n",
        "    # point to a dir containing the images and not to the images themselves\n",
        "    path = aug_dir\n",
        "    save_path = 'base_dir/train_dir/' + img_class\n",
        "\n",
        "    # Create a data generator\n",
        "    datagen = ImageDataGenerator(\n",
        "        rotation_range=180,\n",
        "        width_shift_range=0.1,\n",
        "        height_shift_range=0.1,\n",
        "        zoom_range=0.1,\n",
        "        horizontal_flip=True,\n",
        "        vertical_flip=True,\n",
        "        #brightness_range=(0.9,1.1),\n",
        "        fill_mode='nearest')\n",
        "\n",
        "    batch_size = 50\n",
        "\n",
        "    aug_datagen = datagen.flow_from_directory(path,\n",
        "                                           save_to_dir=save_path,\n",
        "                                           save_format='jpg',\n",
        "                                                    target_size=(224,224),\n",
        "                                                    batch_size=batch_size)\n",
        "\n",
        "\n",
        "\n",
        "    # Generate the augmented images and add them to the training folders\n",
        "    \n",
        "    ###########\n",
        "    \n",
        "    num_aug_images_wanted = 7000 # total number of images we want to have in each class\n",
        "    \n",
        "    ###########\n",
        "    \n",
        "    num_files = len(os.listdir(img_dir))\n",
        "    num_batches = int(np.ceil((num_aug_images_wanted-num_files)/batch_size))\n",
        "\n",
        "    # run the generator and create about 6000 augmented images\n",
        "    for i in range(0,num_batches):\n",
        "\n",
        "        imgs, labels = next(aug_datagen)\n",
        "        \n",
        "    # delete temporary directory with the raw image files\n",
        "    shutil.rmtree('aug_dir')"
      ],
      "execution_count": 39,
      "outputs": [
        {
          "output_type": "stream",
          "text": [
            "Found 131 images belonging to 1 classes.\n",
            "Found 131 images belonging to 1 classes.\n",
            "Found 109 images belonging to 1 classes.\n",
            "Found 109 images belonging to 1 classes.\n"
          ],
          "name": "stdout"
        }
      ]
    },
    {
      "cell_type": "code",
      "metadata": {
        "colab_type": "code",
        "id": "GCwDyBivJaq9",
        "colab": {}
      },
      "source": [
        "total = 0\n",
        "train_list = os.listdir(val_dir)\n",
        "for col in train_list:\n",
        "        npath = os.path.join(val_dir, col)\n",
        "        print(col,len(os.listdir(npath)))\n",
        "        total = total+len(os.listdir(npath))\n",
        "print('total = ',total)        \n",
        "val_len = total"
      ],
      "execution_count": 0,
      "outputs": []
    },
    {
      "cell_type": "code",
      "metadata": {
        "colab_type": "code",
        "id": "LpNbgmFpJarC",
        "colab": {}
      },
      "source": [
        "# training examples\n",
        "total = 0\n",
        "train_list = os.listdir(train_dir)\n",
        "for col in train_list:\n",
        "        npath = os.path.join(train_dir, col)\n",
        "        print(col,len(os.listdir(npath)))\n",
        "        total = total+len(os.listdir(npath))\n",
        "print('total = ',total) \n",
        "train_len = total"
      ],
      "execution_count": 0,
      "outputs": []
    },
    {
      "cell_type": "markdown",
      "metadata": {
        "_uuid": "767cb7d35e301369f020cdbb705da1620ba8e594",
        "id": "eSzViyXUPO8d",
        "colab_type": "text"
      },
      "source": [
        "### Visualize 50 augmented images"
      ]
    },
    {
      "cell_type": "code",
      "metadata": {
        "trusted": true,
        "_uuid": "5f0e13a8455af926fe449e1b3ea818b704724202",
        "colab_type": "code",
        "id": "hMHmpSo_L0G5",
        "colab": {}
      },
      "source": [
        "# plots images with labels within jupyter notebook\n",
        "# source: https://github.com/smileservices/keras_utils/blob/master/utils.py\n",
        "\n",
        "def plots(ims, figsize=(12,6), rows=5, interp=False, titles=None): # 12,6\n",
        "    if type(ims[0]) is np.ndarray:\n",
        "        ims = np.array(ims).astype(np.uint8)\n",
        "        if (ims.shape[-1] != 3):\n",
        "            ims = ims.transpose((0,2,3,1))\n",
        "    f = plt.figure(figsize=figsize)\n",
        "    cols = len(ims)//rows if len(ims) % 2 == 0 else len(ims)//rows + 1\n",
        "    for i in range(len(ims)):\n",
        "        sp = f.add_subplot(rows, cols, i+1)\n",
        "        sp.axis('Off')\n",
        "        if titles is not None:\n",
        "            sp.set_title(titles[i], fontsize=16)\n",
        "        plt.imshow(ims[i], interpolation=None if interp else 'none')\n",
        "        \n",
        "plots(imgs, titles=None) # titles=labels will display the image labels"
      ],
      "execution_count": 0,
      "outputs": []
    },
    {
      "cell_type": "code",
      "metadata": {
        "trusted": true,
        "_uuid": "c3e2126a39c06568a1f95da2ab42353447d1be20",
        "colab_type": "code",
        "id": "YFqhYi20L0Gy",
        "colab": {}
      },
      "source": [
        "# End of Data Preparation\n",
        "### ===================================================================================== ###\n",
        "# Start of Model Building"
      ],
      "execution_count": 0,
      "outputs": []
    },
    {
      "cell_type": "markdown",
      "metadata": {
        "trusted": true,
        "_uuid": "32dad10b7c104d2baa972da8cbadc7d6038af05c",
        "id": "b9VemQbnPO8d",
        "colab_type": "text"
      },
      "source": [
        "### Set Up the Generators"
      ]
    },
    {
      "cell_type": "code",
      "metadata": {
        "trusted": true,
        "_uuid": "aa1041d69b0e8313324b91e3e9475799e1ad61c2",
        "id": "teuio0h1PO8d",
        "colab_type": "code",
        "colab": {}
      },
      "source": [
        "train_path = 'base_dir/train_dir'\n",
        "valid_path = 'base_dir/val_dir'\n",
        "\n",
        "num_train_samples = total_train\n",
        "num_val_samples = total_val\n",
        "train_batch_size = 16\n",
        "val_batch_size = 16\n",
        "image_size = 224\n",
        "\n",
        "train_steps = np.ceil(num_train_samples / train_batch_size)\n",
        "val_steps = np.ceil(num_val_samples / val_batch_size)\n"
      ],
      "execution_count": 0,
      "outputs": []
    },
    {
      "cell_type": "code",
      "metadata": {
        "trusted": true,
        "_uuid": "d0e5aede7139196b0d4e1344b278e7621f005550",
        "id": "DgJt-2hOPO8d",
        "colab_type": "code",
        "colab": {
          "base_uri": "https://localhost:8080/",
          "height": 119
        },
        "outputId": "b2164949-8f5c-46d0-e7d2-40f37b14b806"
      },
      "source": [
        "\n",
        "datagen = ImageDataGenerator(\n",
        "    preprocessing_function= \\\n",
        "    tensorflow.keras.applications.densenet.preprocess_input)\n",
        "\n",
        "train_batches = datagen.flow_from_directory(train_path,\n",
        "                                            target_size=(image_size,image_size),\n",
        "                                            batch_size=train_batch_size)\n",
        "\n",
        "valid_batches = datagen.flow_from_directory(valid_path,\n",
        "                                            target_size=(image_size,image_size),\n",
        "                                            batch_size=val_batch_size)\n",
        "\n",
        "# Note: shuffle=False causes the test dataset to not be shuffled\n",
        "test_batches = datagen.flow_from_directory(valid_path,\n",
        "                                            target_size=(image_size,image_size),\n",
        "                                            batch_size=1,\n",
        "                                            shuffle=False)"
      ],
      "execution_count": 45,
      "outputs": [
        {
          "output_type": "stream",
          "text": [
            "Found 11310 images belonging to 8 classes.\n",
            "Found 23 images belonging to 8 classes.\n",
            "Found 23 images belonging to 8 classes.\n",
            "Found 11310 images belonging to 8 classes.\n",
            "Found 23 images belonging to 8 classes.\n",
            "Found 23 images belonging to 8 classes.\n"
          ],
          "name": "stdout"
        }
      ]
    },
    {
      "cell_type": "markdown",
      "metadata": {
        "_uuid": "8ee4ee41f1b16083bd9fc20ee9dec40acccc97dd",
        "id": "nRPy3_hNPO8t",
        "colab_type": "text"
      },
      "source": [
        "### Modify MobileNet Model"
      ]
    },
    {
      "cell_type": "code",
      "metadata": {
        "trusted": true,
        "_uuid": "ad582cb8ea0ca2d563fc367aa89b7edfafc1a57f",
        "id": "MqJEAD_GPO8t",
        "colab_type": "code",
        "colab": {
          "base_uri": "https://localhost:8080/",
          "height": 105
        },
        "outputId": "9594ec41-7208-432e-c680-6ed03eff4d66"
      },
      "source": [
        "# create a copy of a mobilenet model\n",
        "\n",
        "mobile = tensorflow.keras.applications.densenet.DenseNet201(input_shape=(224, 224, 3), include_top=False, weights=\"imagenet\")\n"
      ],
      "execution_count": 46,
      "outputs": [
        {
          "output_type": "stream",
          "text": [
            "Downloading data from https://github.com/keras-team/keras-applications/releases/download/densenet/densenet201_weights_tf_dim_ordering_tf_kernels_notop.h5\n",
            "Downloading data from https://github.com/keras-team/keras-applications/releases/download/densenet/densenet201_weights_tf_dim_ordering_tf_kernels_notop.h5\n",
            "74842112/74836368 [==============================] - 5s 0us/step\n",
            "74842112/74836368 [==============================] - 5s 0us/step\n"
          ],
          "name": "stdout"
        }
      ]
    },
    {
      "cell_type": "code",
      "metadata": {
        "trusted": true,
        "_uuid": "960449ec7ecdda92ba733ad23b00b7be605f3d4b",
        "_kg_hide-output": true,
        "id": "mspfQ-swPO8t",
        "colab_type": "code",
        "colab": {}
      },
      "source": [
        "mobile.summary()"
      ],
      "execution_count": 0,
      "outputs": []
    },
    {
      "cell_type": "code",
      "metadata": {
        "trusted": true,
        "_uuid": "5b7922bdf625675834d9b63ec0e85351bd9f3c0f",
        "id": "JXgDo7s1PO8t",
        "colab_type": "code",
        "colab": {}
      },
      "source": [
        "type(mobile.layers)"
      ],
      "execution_count": 0,
      "outputs": []
    },
    {
      "cell_type": "code",
      "metadata": {
        "trusted": true,
        "_uuid": "f832e5865c65a013a06dbf5d500c0381020c56d5",
        "id": "Wv_30yy3PO8t",
        "colab_type": "code",
        "colab": {}
      },
      "source": [
        "# How many layers does MobileNet have?\n",
        "len(mobile.layers)"
      ],
      "execution_count": 0,
      "outputs": []
    },
    {
      "cell_type": "code",
      "metadata": {
        "id": "RBrczj6NerQN",
        "colab_type": "code",
        "colab": {}
      },
      "source": [
        ""
      ],
      "execution_count": 0,
      "outputs": []
    },
    {
      "cell_type": "code",
      "metadata": {
        "id": "aPXDv6YNDqdx",
        "colab_type": "code",
        "colab": {}
      },
      "source": [
        "#get the last layer shape\n",
        "last_layer = mobile.get_layer('relu')\n",
        "print('last layer output shape:', last_layer.output_shape)\n",
        "last_output = last_layer.output"
      ],
      "execution_count": 0,
      "outputs": []
    },
    {
      "cell_type": "code",
      "metadata": {
        "trusted": true,
        "_uuid": "4dd9dcf26d85a57a113e6b158cf8fceeca7f99de",
        "id": "EeKxWvc2PO89",
        "colab_type": "code",
        "colab": {}
      },
      "source": [
        "# CREATE THE MODEL ARCHITECTURE\n",
        "\n",
        "# Exclude the last 5 layers of the above model.\n",
        "# This will include all layers up to and including global_average_pooling2d_1\n",
        "#x = mobile.layers[-6].output\n",
        "x = layers.GlobalMaxPooling2D()(last_output)\n",
        "#x = layers.Dense(512)(x)\n",
        "# Create a new dense layer for predictions\n",
        "# 7 corresponds to the number of classes\n",
        "x = Dropout(0.25)(x)\n",
        "predictions = Dense(8, activation='softmax')(x)\n",
        "\n",
        "# inputs=mobile.input selects the input layer, outputs=predictions refers to the\n",
        "# dense layer we created above.\n",
        "\n",
        "model = Model(inputs=mobile.input, outputs=predictions)"
      ],
      "execution_count": 0,
      "outputs": []
    },
    {
      "cell_type": "code",
      "metadata": {
        "trusted": true,
        "_uuid": "b38734b72afc4289ab187a9e683cbda6bf3269bc",
        "_kg_hide-output": true,
        "id": "0rr-f6jfPO89",
        "colab_type": "code",
        "colab": {}
      },
      "source": [
        "model.summary()"
      ],
      "execution_count": 0,
      "outputs": []
    },
    {
      "cell_type": "code",
      "metadata": {
        "trusted": true,
        "_uuid": "a9d74e44630c3d07a596460c8fbfda3ae7cae1e9",
        "id": "b6w476DbPO89",
        "colab_type": "code",
        "colab": {}
      },
      "source": [
        "# We need to choose how many layers we actually want to be trained.\n",
        "\n",
        "# Here we are freezing the weights of all layers except the\n",
        "# last 23 layers in the new model.\n",
        "# The last 23 layers of the model will be trained.\n",
        "\n",
        "# for layer in model.layers[:-23]:\n",
        "#     layer.trainable = False"
      ],
      "execution_count": 0,
      "outputs": []
    },
    {
      "cell_type": "markdown",
      "metadata": {
        "_uuid": "13cf63a53e5195cb8a9725d2506c71108bc478b9",
        "id": "WFdMQXUdPO9M",
        "colab_type": "text"
      },
      "source": [
        "### Train the Model"
      ]
    },
    {
      "cell_type": "code",
      "metadata": {
        "id": "R-zqJmacNzZj",
        "colab_type": "code",
        "colab": {}
      },
      "source": [
        "import tensorflow as tf\n",
        "def median_weight_class_loss(y_true, y_pred):\n",
        "  epsilon = tf.constant(value=1e-10)\n",
        "  #weight_sample = np.array([1113,6705,514,327,1099,115,142])/10015\n",
        "  weight_sample = np.array([867,514,1099,115,900,6705,628,142])/10015\n",
        " #weight_sample = np.array( ak ,bcc,bkl ,df ,mel, nv ,scc,vasc)/full\n",
        "#mel = 1113 -> 900\n",
        "  weight_sample = 0.05132302/weight_sample\n",
        "  xent = -tf.reduce_sum(y_true * tf.log(y_pred + epsilon) * weight_sample, axis=1)\n",
        "  return xent\n",
        "  #['MEL', 'NV', 'BCC', 'AK', 'BKL', 'DF', 'VASC']\n",
        "  \n",
        "#327,514,1099,115,1113,6705,142\n",
        "#{'ak': 0, 'bcc': 1, 'bkl': 2, 'df': 3, 'mel': 4, 'nv': 5, 'vasc': 6}\n",
        "\n",
        "\n",
        "# 867   ak\n",
        "# 514   bcc\n",
        "# 1099  bkl\n",
        "# 115   df\n",
        "# 1113  mel\n",
        "# 6705  nv\n",
        "# 628   scc\n",
        "# 142   vasc"
      ],
      "execution_count": 0,
      "outputs": []
    },
    {
      "cell_type": "code",
      "metadata": {
        "trusted": true,
        "_uuid": "2013ff1abae70fed845af94e7ab3d95cefad0d61",
        "id": "WdXGBTAcPO9M",
        "colab_type": "code",
        "colab": {}
      },
      "source": [
        "optimizer = Adam(lr=0.0001, beta_1=0.9, beta_2=0.999, epsilon=None, decay=0.0, amsgrad=True)\n",
        "model.compile(loss= categorical_crossentropy,\n",
        "#model.compile(loss= median_weight_class_loss,\n",
        "              optimizer=optimizer,\n",
        "              metrics=['categorical_accuracy'])\n",
        "\n"
      ],
      "execution_count": 0,
      "outputs": []
    },
    {
      "cell_type": "code",
      "metadata": {
        "trusted": true,
        "_uuid": "62e7a784a33d4c868f49a3ef1f9acbc7186e3338",
        "id": "vUpFekSIPO9M",
        "colab_type": "code",
        "colab": {
          "base_uri": "https://localhost:8080/",
          "height": 51
        },
        "outputId": "515dc20b-4f78-42ab-e6e2-3dbd8ca8c504"
      },
      "source": [
        "# Get the labels that are associated with each index\n",
        "print(valid_batches.class_indices)"
      ],
      "execution_count": 56,
      "outputs": [
        {
          "output_type": "stream",
          "text": [
            "{'ak': 0, 'bcc': 1, 'bkl': 2, 'df': 3, 'mel': 4, 'nv': 5, 'scc': 6, 'vasc': 7}\n",
            "{'ak': 0, 'bcc': 1, 'bkl': 2, 'df': 3, 'mel': 4, 'nv': 5, 'scc': 6, 'vasc': 7}\n"
          ],
          "name": "stdout"
        }
      ]
    },
    {
      "cell_type": "code",
      "metadata": {
        "trusted": true,
        "_uuid": "3001857c9a3c2b15c2343627e340eb1ae858fae9",
        "id": "49MIXNJQPO9M",
        "colab_type": "code",
        "colab": {}
      },
      "source": [
        "# Add weights to try to make the model more sensitive to melanoma\n",
        "\n",
        "class_weights={\n",
        "    0: 1.0, # ak\n",
        "    1: 1.0, # bcc\n",
        "    2: 1.0, # bkl\n",
        "    3: 1.0, # df\n",
        "    4: 3.0, # mel # Try to make the model more sensitive to Melanoma.\n",
        "    5: 1.0, # nv\n",
        "    6: 1.0, # scc\n",
        "    7: 1.0, # vasc\n",
        "}"
      ],
      "execution_count": 0,
      "outputs": []
    },
    {
      "cell_type": "code",
      "metadata": {
        "trusted": true,
        "_uuid": "4a5e3bc3cf44f1d4326c34ad880a302ba082e9d5",
        "scrolled": false,
        "_kg_hide-output": true,
        "id": "T33ZpHfuPO9M",
        "colab_type": "code",
        "colab": {
          "base_uri": "https://localhost:8080/",
          "height": 1000
        },
        "outputId": "76a292f9-8413-4977-8b5a-2d7b77723965"
      },
      "source": [
        "\n",
        "filepath = \"model.h5\"\n",
        "checkpoint = ModelCheckpoint(filepath, monitor='val_categorical_accuracy', verbose=1, \n",
        "                             save_best_only=True, mode='max')\n",
        "\n",
        "reduce_lr = ReduceLROnPlateau(monitor='val_categorical_accuracy', factor=0.5, patience=2, \n",
        "                                   verbose=1, mode='max', min_lr=0.00001)\n",
        "                              \n",
        "                              \n",
        "callbacks_list = [checkpoint, reduce_lr]\n",
        "\n",
        "history = model.fit_generator(train_batches, steps_per_epoch=train_steps, \n",
        "                              #class_weight=class_weights,\n",
        "                              validation_data=valid_batches,\n",
        "                              validation_steps=val_steps,\n",
        "                              epochs=15, verbose=1,\n",
        "                              callbacks=callbacks_list)\n"
      ],
      "execution_count": 58,
      "outputs": [
        {
          "output_type": "stream",
          "text": [
            "Epoch 1/15\n",
            "Epoch 1/15\n",
            "623/624 [============================>.] - ETA: 0s - loss: 0.1297 - categorical_accuracy: 0.9725\n",
            "Epoch 00001: val_categorical_accuracy improved from -inf to 0.78261, saving model to model.h5\n",
            "\n",
            "Epoch 00001: val_categorical_accuracy improved from -inf to 0.78261, saving model to model.h5\n",
            "624/624 [==============================] - 594s 951ms/step - loss: 0.1295 - categorical_accuracy: 0.9726 - val_loss: 0.6532 - val_categorical_accuracy: 0.7826\n",
            "624/624 [==============================] - 594s 951ms/step - loss: 0.1295 - categorical_accuracy: 0.9726 - val_loss: 0.6532 - val_categorical_accuracy: 0.7826\n",
            "Epoch 2/15\n",
            "Epoch 2/15\n",
            "623/624 [============================>.] - ETA: 0s - loss: 0.0071 - categorical_accuracy: 0.9981\n",
            "Epoch 00002: val_categorical_accuracy did not improve from 0.78261\n",
            "624/624 [==============================] - 281s 450ms/step - loss: 0.0071 - categorical_accuracy: 0.9981 - val_loss: 1.4341 - val_categorical_accuracy: 0.7826\n",
            "\n",
            "Epoch 00002: val_categorical_accuracy did not improve from 0.78261\n",
            "624/624 [==============================] - 281s 450ms/step - loss: 0.0071 - categorical_accuracy: 0.9981 - val_loss: 1.4341 - val_categorical_accuracy: 0.7826\n",
            "Epoch 3/15\n",
            "Epoch 3/15\n",
            "623/624 [============================>.] - ETA: 0s - loss: 0.0035 - categorical_accuracy: 0.9991\n",
            "Epoch 00003: val_categorical_accuracy did not improve from 0.78261\n",
            "\n",
            "Epoch 00003: val_categorical_accuracy did not improve from 0.78261\n",
            "\n",
            "Epoch 00003: ReduceLROnPlateau reducing learning rate to 4.999999873689376e-05.\n",
            "624/624 [==============================] - 283s 453ms/step - loss: 0.0035 - categorical_accuracy: 0.9991 - val_loss: 0.9906 - val_categorical_accuracy: 0.7826\n",
            "\n",
            "Epoch 00003: ReduceLROnPlateau reducing learning rate to 4.999999873689376e-05.\n",
            "624/624 [==============================] - 283s 453ms/step - loss: 0.0035 - categorical_accuracy: 0.9991 - val_loss: 0.9906 - val_categorical_accuracy: 0.7826\n",
            "Epoch 4/15\n",
            "Epoch 4/15\n",
            "623/624 [============================>.] - ETA: 0s - loss: 0.0022 - categorical_accuracy: 0.9994\n",
            "Epoch 00004: val_categorical_accuracy did not improve from 0.78261\n",
            "624/624 [==============================] - 281s 450ms/step - loss: 0.0022 - categorical_accuracy: 0.9994 - val_loss: 1.2323 - val_categorical_accuracy: 0.7391\n",
            "\n",
            "Epoch 00004: val_categorical_accuracy did not improve from 0.78261\n",
            "624/624 [==============================] - 281s 450ms/step - loss: 0.0022 - categorical_accuracy: 0.9994 - val_loss: 1.2323 - val_categorical_accuracy: 0.7391\n",
            "Epoch 5/15\n",
            "Epoch 5/15\n",
            "623/624 [============================>.] - ETA: 0s - loss: 0.0016 - categorical_accuracy: 0.9998\n",
            "Epoch 00005: val_categorical_accuracy did not improve from 0.78261\n",
            "\n",
            "Epoch 00005: ReduceLROnPlateau reducing learning rate to 2.499999936844688e-05.\n",
            "624/624 [==============================] - 279s 448ms/step - loss: 0.0016 - categorical_accuracy: 0.9998 - val_loss: 1.2252 - val_categorical_accuracy: 0.7391\n",
            "\n",
            "Epoch 00005: val_categorical_accuracy did not improve from 0.78261\n",
            "\n",
            "Epoch 00005: ReduceLROnPlateau reducing learning rate to 2.499999936844688e-05.\n",
            "624/624 [==============================] - 279s 448ms/step - loss: 0.0016 - categorical_accuracy: 0.9998 - val_loss: 1.2252 - val_categorical_accuracy: 0.7391\n",
            "Epoch 6/15\n",
            "Epoch 6/15\n",
            "623/624 [============================>.] - ETA: 0s - loss: 6.7589e-04 - categorical_accuracy: 0.9997\n",
            "Epoch 00006: val_categorical_accuracy did not improve from 0.78261\n",
            "624/624 [==============================] - 279s 447ms/step - loss: 6.7481e-04 - categorical_accuracy: 0.9997 - val_loss: 1.3306 - val_categorical_accuracy: 0.7391\n",
            "\n",
            "Epoch 00006: val_categorical_accuracy did not improve from 0.78261\n",
            "624/624 [==============================] - 279s 447ms/step - loss: 6.7481e-04 - categorical_accuracy: 0.9997 - val_loss: 1.3306 - val_categorical_accuracy: 0.7391\n",
            "Epoch 7/15\n",
            "Epoch 7/15\n",
            "623/624 [============================>.] - ETA: 0s - loss: 5.1633e-04 - categorical_accuracy: 0.9998\n",
            "Epoch 00007: val_categorical_accuracy did not improve from 0.78261\n",
            "\n",
            "Epoch 00007: ReduceLROnPlateau reducing learning rate to 1.249999968422344e-05.\n",
            "624/624 [==============================] - 280s 448ms/step - loss: 5.1550e-04 - categorical_accuracy: 0.9998 - val_loss: 1.1511 - val_categorical_accuracy: 0.7391\n",
            "\n",
            "Epoch 00007: val_categorical_accuracy did not improve from 0.78261\n",
            "\n",
            "Epoch 00007: ReduceLROnPlateau reducing learning rate to 1.249999968422344e-05.\n",
            "624/624 [==============================] - 280s 448ms/step - loss: 5.1550e-04 - categorical_accuracy: 0.9998 - val_loss: 1.1511 - val_categorical_accuracy: 0.7391\n",
            "Epoch 8/15\n",
            "Epoch 8/15\n",
            "623/624 [============================>.] - ETA: 0s - loss: 1.6821e-04 - categorical_accuracy: 1.0000\n",
            "Epoch 00008: val_categorical_accuracy did not improve from 0.78261\n",
            "624/624 [==============================] - 280s 448ms/step - loss: 1.6795e-04 - categorical_accuracy: 1.0000 - val_loss: 1.2300 - val_categorical_accuracy: 0.7391\n",
            "\n",
            "Epoch 00008: val_categorical_accuracy did not improve from 0.78261\n",
            "624/624 [==============================] - 280s 448ms/step - loss: 1.6795e-04 - categorical_accuracy: 1.0000 - val_loss: 1.2300 - val_categorical_accuracy: 0.7391\n",
            "Epoch 9/15\n",
            "Epoch 9/15\n",
            "623/624 [============================>.] - ETA: 0s - loss: 9.8941e-04 - categorical_accuracy: 0.9998\n",
            "Epoch 00009: val_categorical_accuracy did not improve from 0.78261\n",
            "\n",
            "Epoch 00009: ReduceLROnPlateau reducing learning rate to 1e-05.\n",
            "624/624 [==============================] - 280s 449ms/step - loss: 9.8787e-04 - categorical_accuracy: 0.9998 - val_loss: 1.1365 - val_categorical_accuracy: 0.7391\n",
            "\n",
            "Epoch 00009: val_categorical_accuracy did not improve from 0.78261\n",
            "\n",
            "Epoch 00009: ReduceLROnPlateau reducing learning rate to 1e-05.\n",
            "624/624 [==============================] - 280s 449ms/step - loss: 9.8787e-04 - categorical_accuracy: 0.9998 - val_loss: 1.1365 - val_categorical_accuracy: 0.7391\n",
            "Epoch 10/15\n",
            "Epoch 10/15\n",
            "623/624 [============================>.] - ETA: 0s - loss: 3.6533e-04 - categorical_accuracy: 0.9999\n",
            "Epoch 00010: val_categorical_accuracy did not improve from 0.78261\n",
            "624/624 [==============================] - 280s 448ms/step - loss: 3.6475e-04 - categorical_accuracy: 0.9999 - val_loss: 1.1919 - val_categorical_accuracy: 0.7391\n",
            "\n",
            "Epoch 00010: val_categorical_accuracy did not improve from 0.78261\n",
            "624/624 [==============================] - 280s 448ms/step - loss: 3.6475e-04 - categorical_accuracy: 0.9999 - val_loss: 1.1919 - val_categorical_accuracy: 0.7391\n",
            "Epoch 11/15\n",
            "Epoch 11/15\n",
            "623/624 [============================>.] - ETA: 0s - loss: 9.3712e-05 - categorical_accuracy: 1.0000\n",
            "Epoch 00011: val_categorical_accuracy did not improve from 0.78261\n",
            "624/624 [==============================] - 280s 449ms/step - loss: 9.3562e-05 - categorical_accuracy: 1.0000 - val_loss: 1.1522 - val_categorical_accuracy: 0.7391\n",
            "\n",
            "Epoch 00011: val_categorical_accuracy did not improve from 0.78261\n",
            "624/624 [==============================] - 280s 449ms/step - loss: 9.3562e-05 - categorical_accuracy: 1.0000 - val_loss: 1.1522 - val_categorical_accuracy: 0.7391\n",
            "Epoch 12/15\n",
            "Epoch 12/15\n",
            "623/624 [============================>.] - ETA: 0s - loss: 4.0746e-04 - categorical_accuracy: 0.9999\n",
            "Epoch 00012: val_categorical_accuracy did not improve from 0.78261\n",
            "624/624 [==============================] - 280s 449ms/step - loss: 4.0681e-04 - categorical_accuracy: 0.9999 - val_loss: 1.2193 - val_categorical_accuracy: 0.7391\n",
            "\n",
            "Epoch 00012: val_categorical_accuracy did not improve from 0.78261\n",
            "624/624 [==============================] - 280s 449ms/step - loss: 4.0681e-04 - categorical_accuracy: 0.9999 - val_loss: 1.2193 - val_categorical_accuracy: 0.7391\n",
            "Epoch 13/15\n",
            "Epoch 13/15\n",
            "623/624 [============================>.] - ETA: 0s - loss: 1.2458e-04 - categorical_accuracy: 1.0000\n",
            "Epoch 00013: val_categorical_accuracy did not improve from 0.78261\n",
            "624/624 [==============================] - 280s 448ms/step - loss: 1.2439e-04 - categorical_accuracy: 1.0000 - val_loss: 1.1600 - val_categorical_accuracy: 0.7391\n",
            "\n",
            "Epoch 00013: val_categorical_accuracy did not improve from 0.78261\n",
            "624/624 [==============================] - 280s 448ms/step - loss: 1.2439e-04 - categorical_accuracy: 1.0000 - val_loss: 1.1600 - val_categorical_accuracy: 0.7391\n",
            "Epoch 14/15\n",
            "Epoch 14/15\n",
            "623/624 [============================>.] - ETA: 0s - loss: 1.1213e-04 - categorical_accuracy: 1.0000\n",
            "Epoch 00014: val_categorical_accuracy did not improve from 0.78261\n",
            "624/624 [==============================] - 281s 450ms/step - loss: 1.1199e-04 - categorical_accuracy: 1.0000 - val_loss: 1.2036 - val_categorical_accuracy: 0.7391\n",
            "\n",
            "Epoch 00014: val_categorical_accuracy did not improve from 0.78261\n",
            "624/624 [==============================] - 281s 450ms/step - loss: 1.1199e-04 - categorical_accuracy: 1.0000 - val_loss: 1.2036 - val_categorical_accuracy: 0.7391\n",
            "Epoch 15/15\n",
            "Epoch 15/15\n",
            "623/624 [============================>.] - ETA: 0s - loss: 9.1270e-04 - categorical_accuracy: 0.9999\n",
            "Epoch 00015: val_categorical_accuracy did not improve from 0.78261\n",
            "624/624 [==============================] - 281s 450ms/step - loss: 9.1123e-04 - categorical_accuracy: 0.9999 - val_loss: 1.1951 - val_categorical_accuracy: 0.7391\n",
            "\n",
            "Epoch 00015: val_categorical_accuracy did not improve from 0.78261\n",
            "624/624 [==============================] - 281s 450ms/step - loss: 9.1123e-04 - categorical_accuracy: 0.9999 - val_loss: 1.1951 - val_categorical_accuracy: 0.7391\n"
          ],
          "name": "stdout"
        }
      ]
    },
    {
      "cell_type": "markdown",
      "metadata": {
        "_uuid": "c3e43e3f2943db4be9d75831fe23661ae9deb44b",
        "id": "ZEH-0fu-PO9c",
        "colab_type": "text"
      },
      "source": [
        "### Evaluate the model using the val set"
      ]
    },
    {
      "cell_type": "code",
      "metadata": {
        "trusted": true,
        "_uuid": "710ee26097924153647ac432c8ade29383fe42f1",
        "id": "o8s8qJF7PO9c",
        "colab_type": "code",
        "colab": {}
      },
      "source": [
        "# get the metric names so we can use evaulate_generator\n",
        "model.metrics_names"
      ],
      "execution_count": 0,
      "outputs": []
    },
    {
      "cell_type": "code",
      "metadata": {
        "trusted": true,
        "_uuid": "68603a5e8cb5e507db95074a07b552a61fa48e11",
        "id": "7-mlZsi9PO9c",
        "colab_type": "code",
        "colab": {
          "base_uri": "https://localhost:8080/",
          "height": 85
        },
        "outputId": "a04c6a98-80a2-43ce-fb01-311711a1412a"
      },
      "source": [
        "# Here the the last epoch will be used.\n",
        "\n",
        "val_loss, val_cat_acc = \\\n",
        "model.evaluate_generator(test_batches, \n",
        "                        steps=total_val)\n",
        "\n",
        "print('val_loss:', val_loss)\n",
        "print('val_cat_acc:', val_cat_acc)\n"
      ],
      "execution_count": 60,
      "outputs": [
        {
          "output_type": "stream",
          "text": [
            "val_loss: 1.1733009619214194\n",
            "val_cat_acc: 0.7374071\n",
            "val_loss: 1.1733009619214194\n",
            "val_cat_acc: 0.7374071\n"
          ],
          "name": "stdout"
        }
      ]
    },
    {
      "cell_type": "code",
      "metadata": {
        "trusted": true,
        "_uuid": "897f066da922d81fefa165a6b911a741c52ef7f5",
        "id": "48C3PzRNPO9c",
        "colab_type": "code",
        "colab": {
          "base_uri": "https://localhost:8080/",
          "height": 85
        },
        "outputId": "b629da00-db77-4231-cb3f-50e9e6fb69b9"
      },
      "source": [
        "# Here the best epoch will be used.\n",
        "\n",
        "model.load_weights('model.h5')\n",
        "\n",
        "val_loss, val_cat_acc = \\\n",
        "model.evaluate_generator(test_batches, \n",
        "                        steps=total_val)\n",
        "\n",
        "print('val_loss:', val_loss)\n",
        "print('val_cat_acc:', val_cat_acc)\n"
      ],
      "execution_count": 61,
      "outputs": [
        {
          "output_type": "stream",
          "text": [
            "val_loss: 0.6735450900812306\n",
            "val_cat_acc: 0.7811726\n",
            "val_loss: 0.6735450900812306\n",
            "val_cat_acc: 0.7811726\n"
          ],
          "name": "stdout"
        }
      ]
    },
    {
      "cell_type": "markdown",
      "metadata": {
        "_uuid": "c3fffba5e0aa9088cda1865c7b8d75d72c20d0f6",
        "id": "gFp_NLGtPO9c",
        "colab_type": "text"
      },
      "source": [
        "### Plot the Training Curves"
      ]
    },
    {
      "cell_type": "code",
      "metadata": {
        "trusted": true,
        "_uuid": "0cbd11ef4286a751ef2918361af035d356f341ae",
        "id": "CLruL2caPO9c",
        "colab_type": "code",
        "colab": {}
      },
      "source": [
        "# display the loss and accuracy curves\n",
        "\n",
        "import matplotlib.pyplot as plt\n",
        "\n",
        "# Retrieve a list of accuracy results on training and test data\n",
        "# sets for each training epoch\n",
        "acc = history.history['categorical_accuracy']\n",
        "val_acc = history.history['val_categorical_accuracy']\n",
        "\n",
        "# Retrieve a list of list results on training and test data\n",
        "# sets for each training epoch\n",
        "loss = history.history['loss']\n",
        "val_loss = history.history['val_loss']\n",
        "\n",
        "# Get number of epochs\n",
        "epochs = range(len(acc))\n",
        "\n",
        "# Plot training and validation accuracy per epoch\n",
        "plt.plot(epochs, acc, label = \"training\")\n",
        "plt.plot(epochs, val_acc, label = \"validation\")\n",
        "plt.legend(loc=\"upper left\")\n",
        "plt.title('Training and validation accuracy')\n",
        "\n",
        "plt.figure()\n",
        "\n",
        "# Plot training and validation loss per epoch\n",
        "plt.plot(epochs, loss, label = \"training\")\n",
        "plt.plot(epochs, val_loss, label = \"validation\")\n",
        "plt.legend(loc=\"upper right\")\n",
        "plt.title('Training and validation loss')"
      ],
      "execution_count": 0,
      "outputs": []
    },
    {
      "cell_type": "markdown",
      "metadata": {
        "_uuid": "4204e4056c8d12c1fee72b97912879cad4ee483f",
        "id": "qEOZEC8SPO9r",
        "colab_type": "text"
      },
      "source": [
        "### Create a Confusion Matrix"
      ]
    },
    {
      "cell_type": "code",
      "metadata": {
        "trusted": true,
        "_uuid": "74a66905f7a2d702f3d2aad9abf9fe114b96f0ff",
        "id": "fFfmpfB1PO9r",
        "colab_type": "code",
        "colab": {}
      },
      "source": [
        "# Get the labels of the test images.\n",
        "\n",
        "test_labels = test_batches.classes"
      ],
      "execution_count": 0,
      "outputs": []
    },
    {
      "cell_type": "code",
      "metadata": {
        "trusted": true,
        "_uuid": "53f4b22617285e923f336cdb2ffcbe1f9ff5e5db",
        "_kg_hide-output": true,
        "id": "VEOjcoAVPO9r",
        "colab_type": "code",
        "colab": {}
      },
      "source": [
        "# We need these to plot the confusion matrix.\n",
        "test_labels"
      ],
      "execution_count": 0,
      "outputs": []
    },
    {
      "cell_type": "code",
      "metadata": {
        "trusted": true,
        "_uuid": "d5113e039e8384b96595751e084f0c5ed677080a",
        "id": "7h5SK-u3PO97",
        "colab_type": "code",
        "colab": {
          "base_uri": "https://localhost:8080/",
          "height": 34
        },
        "outputId": "449ad0c4-35e9-49b0-d620-1c41b7d2f26f"
      },
      "source": [
        "# Print the label associated with each class\n",
        "test_batches.class_indices"
      ],
      "execution_count": 72,
      "outputs": [
        {
          "output_type": "execute_result",
          "data": {
            "text/plain": [
              "{'ak': 0, 'bcc': 1, 'bkl': 2, 'df': 3, 'mel': 4, 'nv': 5, 'scc': 6, 'vasc': 7}"
            ]
          },
          "metadata": {
            "tags": []
          },
          "execution_count": 72
        }
      ]
    },
    {
      "cell_type": "code",
      "metadata": {
        "trusted": true,
        "_uuid": "701dafc5874aa60a054a74c04170cb7e8d750e94",
        "id": "j4TNdsVyPO97",
        "colab_type": "code",
        "colab": {
          "base_uri": "https://localhost:8080/",
          "height": 34
        },
        "outputId": "0d6f908c-65b8-46c5-b1d9-0c03449b964d"
      },
      "source": [
        "# make a prediction\n",
        "#predictions = model.predict_generator(test_batches, steps=len(df_val), verbose=1)\n",
        "predictions = model.predict_generator(test_batches, steps=val_len, verbose=1)"
      ],
      "execution_count": 78,
      "outputs": [
        {
          "output_type": "stream",
          "text": [
            "23/23 [==============================] - 1s 40ms/step\n"
          ],
          "name": "stdout"
        }
      ]
    },
    {
      "cell_type": "code",
      "metadata": {
        "trusted": true,
        "_uuid": "dcce17ac0488ff90d29b11592c9226ed1bb210fb",
        "id": "3tVC65mCPO-d",
        "colab_type": "code",
        "colab": {
          "base_uri": "https://localhost:8080/",
          "height": 34
        },
        "outputId": "256f50f8-6392-4ad5-9ce1-69ee87e46b4f"
      },
      "source": [
        "predictions.shape"
      ],
      "execution_count": 79,
      "outputs": [
        {
          "output_type": "execute_result",
          "data": {
            "text/plain": [
              "(23, 8)"
            ]
          },
          "metadata": {
            "tags": []
          },
          "execution_count": 79
        }
      ]
    },
    {
      "cell_type": "code",
      "metadata": {
        "trusted": true,
        "_uuid": "7cfd9bdbbd27e27d9c5de7c6593527686445ea89",
        "id": "Lw-jS9nWPO-d",
        "colab_type": "code",
        "colab": {}
      },
      "source": [
        "# Source: Scikit Learn website\n",
        "# http://scikit-learn.org/stable/auto_examples/\n",
        "# model_selection/plot_confusion_matrix.html#sphx-glr-auto-examples-model-\n",
        "# selection-plot-confusion-matrix-py\n",
        "\n",
        "\n",
        "def plot_confusion_matrix(cm, classes,\n",
        "                          normalize=False,\n",
        "                          title='Confusion matrix',\n",
        "                          cmap=plt.cm.Blues):\n",
        "    \"\"\"\n",
        "    This function prints and plots the confusion matrix.\n",
        "    Normalization can be applied by setting `normalize=True`.\n",
        "    \"\"\"\n",
        "    if normalize:\n",
        "        cm = cm.astype('float') / cm.sum(axis=1)[:, np.newaxis]\n",
        "        print(\"Normalized confusion matrix\")\n",
        "    else:\n",
        "        print('Confusion matrix, without normalization')\n",
        "\n",
        "    print(cm)\n",
        "\n",
        "    plt.imshow(cm, interpolation='nearest', cmap=cmap)\n",
        "    plt.title(title)\n",
        "    plt.colorbar()\n",
        "    tick_marks = np.arange(len(classes))\n",
        "    plt.xticks(tick_marks, classes, rotation=45)\n",
        "    plt.yticks(tick_marks, classes)\n",
        "\n",
        "    fmt = '.2f' if normalize else 'd'\n",
        "    thresh = cm.max() / 2.\n",
        "    for i, j in itertools.product(range(cm.shape[0]), range(cm.shape[1])):\n",
        "        plt.text(j, i, format(cm[i, j], fmt),\n",
        "                 horizontalalignment=\"center\",\n",
        "                 color=\"white\" if cm[i, j] > thresh else \"black\")\n",
        "\n",
        "    plt.ylabel('True label')\n",
        "    plt.xlabel('Predicted label')\n",
        "    plt.tight_layout()\n",
        "\n",
        "\n"
      ],
      "execution_count": 0,
      "outputs": []
    },
    {
      "cell_type": "code",
      "metadata": {
        "trusted": true,
        "_uuid": "8d499136cdb5fdf356515beb6e0cd1130ed584db",
        "id": "nWHxzB76PO-t",
        "colab_type": "code",
        "colab": {
          "base_uri": "https://localhost:8080/",
          "height": 34
        },
        "outputId": "e84225f2-f422-4cbf-c7c2-2f6c1cdb70f6"
      },
      "source": [
        "test_labels.shape"
      ],
      "execution_count": 81,
      "outputs": [
        {
          "output_type": "execute_result",
          "data": {
            "text/plain": [
              "(23,)"
            ]
          },
          "metadata": {
            "tags": []
          },
          "execution_count": 81
        }
      ]
    },
    {
      "cell_type": "code",
      "metadata": {
        "trusted": true,
        "_uuid": "940b71bb2b37d847ba81dd67ca50c7fd5785fd35",
        "id": "ZPVTJwZRPO-t",
        "colab_type": "code",
        "colab": {}
      },
      "source": [
        "# argmax returns the index of the max value in a row\n",
        "cm = confusion_matrix(test_labels, predictions.argmax(axis=1))"
      ],
      "execution_count": 0,
      "outputs": []
    },
    {
      "cell_type": "code",
      "metadata": {
        "trusted": true,
        "_uuid": "97c6b493c368ff6565782c1bb15827f5d349ef79",
        "id": "yYueFTKgPO_N",
        "colab_type": "code",
        "colab": {
          "base_uri": "https://localhost:8080/",
          "height": 34
        },
        "outputId": "fa9e0f03-acb3-446a-a18c-6ca933d341d4"
      },
      "source": [
        "test_batches.class_indices"
      ],
      "execution_count": 83,
      "outputs": [
        {
          "output_type": "execute_result",
          "data": {
            "text/plain": [
              "{'ak': 0, 'bcc': 1, 'bkl': 2, 'df': 3, 'mel': 4, 'nv': 5, 'scc': 6, 'vasc': 7}"
            ]
          },
          "metadata": {
            "tags": []
          },
          "execution_count": 83
        }
      ]
    },
    {
      "cell_type": "code",
      "metadata": {
        "trusted": true,
        "_uuid": "0ddbd33a93468075c64ba49188a6d272a5c7828f",
        "id": "JvhGgpbTPO_N",
        "colab_type": "code",
        "colab": {
          "base_uri": "https://localhost:8080/",
          "height": 450
        },
        "outputId": "26261d50-65ea-4053-ca53-1f71212b7cd8"
      },
      "source": [
        "# Define the labels of the class indices. These need to match the \n",
        "# order shown above.\n",
        "cm_plot_labels = ['ak', 'bcc', 'bkl', 'df', 'mel','nv', 'scc', 'vasc']\n",
        "\n",
        "plot_confusion_matrix(cm, cm_plot_labels, title='Confusion Matrix')"
      ],
      "execution_count": 87,
      "outputs": [
        {
          "output_type": "stream",
          "text": [
            "Confusion matrix, without normalization\n",
            "[[ 0  0  0  1  0  0  0  0]\n",
            " [ 0  1  0  0  0  0  0  0]\n",
            " [ 0  0  1  0  0  0  0  0]\n",
            " [ 0  0  1  5  0  0  0  0]\n",
            " [ 0  0  0  1  0  0  0  0]\n",
            " [ 0  0  0  1  0  0  0  0]\n",
            " [ 1  0  0  0  0  0  0  0]\n",
            " [ 0  0  0  0  0  0  0 11]]\n"
          ],
          "name": "stdout"
        },
        {
          "output_type": "display_data",
          "data": {
            "image/png": "[encoded data removed]",
            "text/plain": [
              "<Figure size 432x288 with 2 Axes>"
            ]
          },
          "metadata": {
            "tags": []
          }
        }
      ]
    },
    {
      "cell_type": "markdown",
      "metadata": {
        "_uuid": "571f3f23d58daa03ec3fbf9207363063b2a63373",
        "id": "uvHLKSDMPO_d",
        "colab_type": "text"
      },
      "source": [
        "### Generate the Classification Report"
      ]
    },
    {
      "cell_type": "code",
      "metadata": {
        "trusted": true,
        "_uuid": "ebc31a49c8e8ab5d1305e46a7d638e0da326da8b",
        "id": "T8w6b5Z1PO_d",
        "colab_type": "code",
        "colab": {}
      },
      "source": [
        "# Get the index of the class with the highest probability score\n",
        "y_pred = np.argmax(predictions, axis=1)\n",
        "\n",
        "# Get the labels of the test images.\n",
        "y_true = test_batches.classes"
      ],
      "execution_count": 0,
      "outputs": []
    },
    {
      "cell_type": "code",
      "metadata": {
        "trusted": true,
        "_uuid": "05027fe3475ab922340f9d905ec1239e2157fa05",
        "id": "2yWuGXFUPO_d",
        "colab_type": "code",
        "colab": {
          "base_uri": "https://localhost:8080/",
          "height": 326
        },
        "outputId": "bb31412f-cba1-4f64-8954-bff001a351c0"
      },
      "source": [
        "from sklearn.metrics import classification_report\n",
        "\n",
        "# Generate a classification report\n",
        "report = classification_report(y_true, y_pred, target_names=cm_plot_labels)\n",
        "\n",
        "print(report)"
      ],
      "execution_count": 89,
      "outputs": [
        {
          "output_type": "stream",
          "text": [
            "              precision    recall  f1-score   support\n",
            "\n",
            "          ak       0.00      0.00      0.00         1\n",
            "         bcc       1.00      1.00      1.00         1\n",
            "         bkl       0.50      1.00      0.67         1\n",
            "          df       0.62      0.83      0.71         6\n",
            "         mel       0.00      0.00      0.00         1\n",
            "          nv       0.00      0.00      0.00         1\n",
            "         scc       0.00      0.00      0.00         1\n",
            "        vasc       1.00      1.00      1.00        11\n",
            "\n",
            "    accuracy                           0.78        23\n",
            "   macro avg       0.39      0.48      0.42        23\n",
            "weighted avg       0.71      0.78      0.74        23\n",
            "\n"
          ],
          "name": "stdout"
        },
        {
          "output_type": "stream",
          "text": [
            "/usr/local/lib/python3.6/dist-packages/sklearn/metrics/classification.py:1437: UndefinedMetricWarning: Precision and F-score are ill-defined and being set to 0.0 in labels with no predicted samples.\n",
            "  'precision', 'predicted', average, warn_for)\n"
          ],
          "name": "stderr"
        }
      ]
    },
    {
      "cell_type": "markdown",
      "metadata": {
        "_uuid": "d8313f0f4024fdb8053f943136880e63ac962ac2",
        "id": "h_xc5XnpPO_s",
        "colab_type": "text"
      },
      "source": [
        "**Recall** = Given a class, will the classifier be able to detect it?<br>\n",
        "**Precision** = Given a class prediction from a classifier, how likely is it to be correct?<br>\n",
        "**F1 Score** = The harmonic mean of the recall and precision. Essentially, it punishes extreme values."
      ]
    },
    {
      "cell_type": "code",
      "metadata": {
        "trusted": true,
        "_uuid": "5542329b4d6891149c210b55272a981144cdf27f",
        "id": "Dvpt8q2GPO_s",
        "colab_type": "code",
        "colab": {}
      },
      "source": [
        ""
      ],
      "execution_count": 0,
      "outputs": []
    },
    {
      "cell_type": "code",
      "metadata": {
        "trusted": true,
        "_uuid": "4c46f3f1d257241f96b4aac7eb96831ff8bbea33",
        "id": "_B036K8kPO_s",
        "colab_type": "code",
        "colab": {}
      },
      "source": [
        "# End of Model Building\n",
        "### ===================================================================================== ###\n",
        "# Convert the Model from Keras to Tensorflow.js"
      ],
      "execution_count": 0,
      "outputs": []
    },
    {
      "cell_type": "markdown",
      "metadata": {
        "id": "8sT7AjMhIsYP",
        "colab_type": "text"
      },
      "source": [
        "### test"
      ]
    },
    {
      "cell_type": "code",
      "metadata": {
        "id": "z8cI7dDrIv_V",
        "colab_type": "code",
        "colab": {}
      },
      "source": [
        "import numpy as np\n",
        "\n",
        "\n",
        "def plot_confusion_matrix(cm,\n",
        "                          target_names,\n",
        "                          title='Confusion matrix',\n",
        "                          cmap=None,\n",
        "                          normalize=True):\n",
        "\n",
        "    import matplotlib.pyplot as plt\n",
        "    import numpy as np\n",
        "    import itertools\n",
        "\n",
        "    accuracy = np.trace(cm) / float(np.sum(cm))\n",
        "    misclass = 1 - accuracy\n",
        "\n",
        "    if cmap is None:\n",
        "        cmap = plt.get_cmap('Blues')\n",
        "\n",
        "    plt.figure(figsize=(8, 6))\n",
        "    plt.imshow(cm, interpolation='nearest', cmap=cmap)\n",
        "    plt.title(title)\n",
        "    plt.colorbar()\n",
        "\n",
        "    if target_names is not None:\n",
        "        tick_marks = np.arange(len(target_names))\n",
        "        plt.xticks(tick_marks, target_names, rotation=45)\n",
        "        plt.yticks(tick_marks, target_names)\n",
        "\n",
        "    if normalize:\n",
        "        cm = cm.astype('float') / cm.sum(axis=1)[:, np.newaxis]\n",
        "\n",
        "\n",
        "    thresh = cm.max() / 1.5 if normalize else cm.max() / 2\n",
        "    for i, j in itertools.product(range(cm.shape[0]), range(cm.shape[1])):\n",
        "        if normalize:\n",
        "            plt.text(j, i, \"{:0.4f}\".format(cm[i, j]),\n",
        "                     horizontalalignment=\"center\",\n",
        "                     color=\"red\" if cm[i, j] > thresh else \"black\")\n",
        "        else:\n",
        "            plt.text(j, i, \"{:,}\".format(cm[i, j]),\n",
        "                     horizontalalignment=\"center\",\n",
        "                     color=\"white\" if cm[i, j] > thresh else \"black\")\n",
        "\n",
        "\n",
        "    plt.tight_layout()\n",
        "    plt.ylabel('True label')\n",
        "    plt.xlabel('Predicted label\\naccuracy={:0.4f}; misclass={:0.4f}'.format(accuracy, misclass))\n",
        "    plt.show()"
      ],
      "execution_count": 0,
      "outputs": []
    },
    {
      "cell_type": "code",
      "metadata": {
        "id": "pkJPmakpJBGx",
        "colab_type": "code",
        "colab": {
          "base_uri": "https://localhost:8080/",
          "height": 467
        },
        "outputId": "1a7977a9-2eb0-486a-eb2d-9021b7a7c4c7"
      },
      "source": [
        "plot_confusion_matrix(cm           = cm ,\n",
        "                      normalize    = False,\n",
        "                      target_names = ['ak', 'bcc', 'bkl', 'df', 'mel', 'nv', 'scc', 'vasc'],\n",
        "                      title        = \"Confusion Matrix\")"
      ],
      "execution_count": 92,
      "outputs": [
        {
          "output_type": "display_data",
          "data": {
            "image/png": "[encoded data removed]",
            "text/plain": [
              "<Figure size 576x432 with 2 Axes>"
            ]
          },
          "metadata": {
            "tags": []
          }
        }
      ]
    },
    {
      "cell_type": "code",
      "metadata": {
        "id": "r88Lcs44JZ0k",
        "colab_type": "code",
        "colab": {
          "base_uri": "https://localhost:8080/",
          "height": 467
        },
        "outputId": "b728e1d7-d3f5-4540-96d6-10a4e606d44c"
      },
      "source": [
        "plot_confusion_matrix(cm           = cm, \n",
        "                      normalize    = True,\n",
        "                      target_names = ['ak', 'bcc', 'bkl', 'df', 'mel', 'nv', 'scc', 'vasc'],\n",
        "                      title        = \"Confusion Matrix, Normalized\")"
      ],
      "execution_count": 93,
      "outputs": [
        {
          "output_type": "display_data",
          "data": {
            "image/png": "[encoded data removed]",
            "text/plain": [
              "<Figure size 576x432 with 2 Axes>"
            ]
          },
          "metadata": {
            "tags": []
          }
        }
      ]
    },
    {
      "cell_type": "code",
      "metadata": {
        "id": "G2Ty4V92UZXi",
        "colab_type": "code",
        "colab": {}
      },
      "source": [
        "!cp model.h5 -d 'drive/My Drive/vasc_df.h5'"
      ],
      "execution_count": 0,
      "outputs": []
    }
  ]
}